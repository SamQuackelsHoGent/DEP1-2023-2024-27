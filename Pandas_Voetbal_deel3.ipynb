{
 "cells": [
  {
   "cell_type": "markdown",
   "metadata": {},
   "source": [
    "# Cleaning up doelpunten.csv file"
   ]
  },
  {
   "cell_type": "code",
   "execution_count": 44,
   "metadata": {},
   "outputs": [],
   "source": [
    "import pandas as pd"
   ]
  },
  {
   "cell_type": "markdown",
   "metadata": {},
   "source": [
    "### Creating a dataframe"
   ]
  },
  {
   "cell_type": "code",
   "execution_count": 45,
   "metadata": {},
   "outputs": [],
   "source": [
    "df = pd.read_csv(\"doelpunten.csv\", encoding='latin1', \n",
    "names=['Match_ID', 'Seizoen', 'Speeldag', 'Datum', 'Startuur', 'Thuisploeg', 'Uitploeg', \n",
    "'Scorende ploeg', 'Tijdstip goal', 'Score thuisploeg', 'Score Uitploeg'])"
   ]
  },
  {
   "cell_type": "code",
   "execution_count": 46,
   "metadata": {},
   "outputs": [
    {
     "data": {
      "text/html": [
       "<div>\n",
       "<style scoped>\n",
       "    .dataframe tbody tr th:only-of-type {\n",
       "        vertical-align: middle;\n",
       "    }\n",
       "\n",
       "    .dataframe tbody tr th {\n",
       "        vertical-align: top;\n",
       "    }\n",
       "\n",
       "    .dataframe thead th {\n",
       "        text-align: right;\n",
       "    }\n",
       "</style>\n",
       "<table border=\"1\" class=\"dataframe\">\n",
       "  <thead>\n",
       "    <tr style=\"text-align: right;\">\n",
       "      <th></th>\n",
       "      <th>Match_ID</th>\n",
       "      <th>Seizoen</th>\n",
       "      <th>Speeldag</th>\n",
       "      <th>Datum</th>\n",
       "      <th>Startuur</th>\n",
       "      <th>Thuisploeg</th>\n",
       "      <th>Uitploeg</th>\n",
       "      <th>Scorende ploeg</th>\n",
       "      <th>Tijdstip goal</th>\n",
       "      <th>Score thuisploeg</th>\n",
       "      <th>Score Uitploeg</th>\n",
       "    </tr>\n",
       "  </thead>\n",
       "  <tbody>\n",
       "    <tr>\n",
       "      <th>0</th>\n",
       "      <td>4008203</td>\n",
       "      <td>60/61</td>\n",
       "      <td>1</td>\n",
       "      <td>4/09/1960</td>\n",
       "      <td>15:00</td>\n",
       "      <td>St-Truidense VV</td>\n",
       "      <td>Standard Luik</td>\n",
       "      <td>Standard Luik</td>\n",
       "      <td>15:14</td>\n",
       "      <td>0</td>\n",
       "      <td>1</td>\n",
       "    </tr>\n",
       "    <tr>\n",
       "      <th>1</th>\n",
       "      <td>4008203</td>\n",
       "      <td>60/61</td>\n",
       "      <td>1</td>\n",
       "      <td>4/09/1960</td>\n",
       "      <td>15:00</td>\n",
       "      <td>St-Truidense VV</td>\n",
       "      <td>Standard Luik</td>\n",
       "      <td>Standard Luik</td>\n",
       "      <td>15:19</td>\n",
       "      <td>0</td>\n",
       "      <td>2</td>\n",
       "    </tr>\n",
       "    <tr>\n",
       "      <th>2</th>\n",
       "      <td>4008204</td>\n",
       "      <td>60/61</td>\n",
       "      <td>1</td>\n",
       "      <td>4/09/1960</td>\n",
       "      <td>15:00</td>\n",
       "      <td>Eendracht Aalst</td>\n",
       "      <td>Antwerp FC</td>\n",
       "      <td>Antwerp FC</td>\n",
       "      <td>15:18</td>\n",
       "      <td>0</td>\n",
       "      <td>1</td>\n",
       "    </tr>\n",
       "    <tr>\n",
       "      <th>3</th>\n",
       "      <td>4008204</td>\n",
       "      <td>60/61</td>\n",
       "      <td>1</td>\n",
       "      <td>4/09/1960</td>\n",
       "      <td>15:00</td>\n",
       "      <td>Eendracht Aalst</td>\n",
       "      <td>Antwerp FC</td>\n",
       "      <td>Eendracht Aalst</td>\n",
       "      <td>15:18</td>\n",
       "      <td>1</td>\n",
       "      <td>1</td>\n",
       "    </tr>\n",
       "    <tr>\n",
       "      <th>4</th>\n",
       "      <td>4008204</td>\n",
       "      <td>60/61</td>\n",
       "      <td>1</td>\n",
       "      <td>4/09/1960</td>\n",
       "      <td>15:00</td>\n",
       "      <td>Eendracht Aalst</td>\n",
       "      <td>Antwerp FC</td>\n",
       "      <td>Eendracht Aalst</td>\n",
       "      <td>15:26</td>\n",
       "      <td>2</td>\n",
       "      <td>1</td>\n",
       "    </tr>\n",
       "  </tbody>\n",
       "</table>\n",
       "</div>"
      ],
      "text/plain": [
       "   Match_ID Seizoen  Speeldag      Datum Startuur       Thuisploeg   \n",
       "0   4008203   60/61         1  4/09/1960    15:00  St-Truidense VV  \\\n",
       "1   4008203   60/61         1  4/09/1960    15:00  St-Truidense VV   \n",
       "2   4008204   60/61         1  4/09/1960    15:00  Eendracht Aalst   \n",
       "3   4008204   60/61         1  4/09/1960    15:00  Eendracht Aalst   \n",
       "4   4008204   60/61         1  4/09/1960    15:00  Eendracht Aalst   \n",
       "\n",
       "        Uitploeg   Scorende ploeg Tijdstip goal  Score thuisploeg   \n",
       "0  Standard Luik    Standard Luik         15:14                 0  \\\n",
       "1  Standard Luik    Standard Luik         15:19                 0   \n",
       "2     Antwerp FC       Antwerp FC         15:18                 0   \n",
       "3     Antwerp FC  Eendracht Aalst         15:18                 1   \n",
       "4     Antwerp FC  Eendracht Aalst         15:26                 2   \n",
       "\n",
       "   Score Uitploeg  \n",
       "0               1  \n",
       "1               2  \n",
       "2               1  \n",
       "3               1  \n",
       "4               1  "
      ]
     },
     "execution_count": 46,
     "metadata": {},
     "output_type": "execute_result"
    }
   ],
   "source": [
    "df.head()"
   ]
  },
  {
   "cell_type": "code",
   "execution_count": 47,
   "metadata": {},
   "outputs": [
    {
     "data": {
      "text/plain": [
       "Match_ID             int64\n",
       "Seizoen             object\n",
       "Speeldag             int64\n",
       "Datum               object\n",
       "Startuur            object\n",
       "Thuisploeg          object\n",
       "Uitploeg            object\n",
       "Scorende ploeg      object\n",
       "Tijdstip goal       object\n",
       "Score thuisploeg     int64\n",
       "Score Uitploeg       int64\n",
       "dtype: object"
      ]
     },
     "execution_count": 47,
     "metadata": {},
     "output_type": "execute_result"
    }
   ],
   "source": [
    "df.dtypes"
   ]
  },
  {
   "cell_type": "code",
   "execution_count": 48,
   "metadata": {},
   "outputs": [],
   "source": [
    "# tijdstip doelpunt in geheel getal\n",
    "def convert(row):\n",
    "    startuur = row[4]\n",
    "    uur, minuut = map(int, row[8].split(':'))\n",
    "    start_uur, start_minuut = map(int, startuur.split(':'))\n",
    "\n",
    "    if uur < start_uur:\n",
    "        absolute_minuten = (60 - start_minuut) + (uur + 1 - start_uur) * 60 + minuut\n",
    "    else:\n",
    "        absolute_minuten = (uur - start_uur) * 60 + minuut - start_minuut\n",
    "    \n",
    "    return absolute_minuten"
   ]
  },
  {
   "cell_type": "code",
   "execution_count": 49,
   "metadata": {},
   "outputs": [],
   "source": [
    "df['Minuut goal'] = df.apply(convert, axis=1)"
   ]
  },
  {
   "cell_type": "code",
   "execution_count": 50,
   "metadata": {},
   "outputs": [
    {
     "name": "stdout",
     "output_type": "stream",
     "text": [
      "0\n"
     ]
    }
   ],
   "source": [
    "controle_binnen_tijd = df[df['Minuut goal'] > 120]\n",
    "print(len(controle_binnen_tijd))"
   ]
  },
  {
   "cell_type": "code",
   "execution_count": 51,
   "metadata": {},
   "outputs": [],
   "source": [
    "wedstrijden_df = pd.read_csv('wedstrijden.csv', encoding='latin1',\n",
    "names=['Match_ID', 'Seizoen', 'Speeldag', 'Datum', 'Startuur', 'Thuisploeg', \n",
    "'Score thuisploeg', 'Score Uitploeg', 'Uitploeg'])"
   ]
  },
  {
   "cell_type": "code",
   "execution_count": 52,
   "metadata": {},
   "outputs": [
    {
     "name": "stderr",
     "output_type": "stream",
     "text": [
      "C:\\Users\\simon\\AppData\\Local\\Temp\\ipykernel_8360\\4134516261.py:6: SettingWithCopyWarning: \n",
      "A value is trying to be set on a copy of a slice from a DataFrame.\n",
      "Try using .loc[row_indexer,col_indexer] = value instead\n",
      "\n",
      "See the caveats in the documentation: https://pandas.pydata.org/pandas-docs/stable/user_guide/indexing.html#returning-a-view-versus-a-copy\n",
      "  wedstrijden_df_unique['Match_ID'] = pd.to_numeric(wedstrijden_df_unique['Match_ID'], errors='coerce')\n"
     ]
    }
   ],
   "source": [
    "df_unique = df.drop_duplicates(subset=['Match_ID'])\n",
    "wedstrijden_df_unique = wedstrijden_df.drop_duplicates(subset=['Match_ID'])\n",
    "\n",
    "# Convert Match_ID column in wedstrijden_df_unique to int64 data type\n",
    "wedstrijden_df_unique['Match_ID'] = pd.to_numeric(wedstrijden_df_unique['Match_ID'], errors='coerce')\n",
    "\n",
    "wedstrijden_df_unique = wedstrijden_df_unique.dropna(subset=['Match_ID'])\n",
    "\n",
    "wedstrijden_df_unique['Match_ID'] = wedstrijden_df_unique['Match_ID'].astype('int64')\n",
    "\n",
    "# Merge DataFrames\n",
    "merged_df = pd.merge(df_unique, wedstrijden_df_unique, on='Match_ID', how='inner')"
   ]
  },
  {
   "cell_type": "code",
   "execution_count": 53,
   "metadata": {},
   "outputs": [
    {
     "name": "stdout",
     "output_type": "stream",
     "text": [
      "Empty DataFrame\n",
      "Columns: [Match_ID, Seizoen_x, Speeldag_x, Datum_x, Startuur_x, Thuisploeg_x, Uitploeg_x, Scorende ploeg, Tijdstip goal, Score thuisploeg_x, Score Uitploeg_x, Minuut goal, Seizoen_y, Speeldag_y, Datum_y, Startuur_y, Thuisploeg_y, Score thuisploeg_y, Score Uitploeg_y, Uitploeg_y, Datums_gelijk]\n",
      "Index: []\n",
      "\n",
      "[0 rows x 21 columns]\n"
     ]
    }
   ],
   "source": [
    "# Datums van beide dataframes vergelijken\n",
    "merged_df['Datums_gelijk'] = merged_df['Datum_x'] == merged_df['Datum_y']\n",
    "\n",
    "print(merged_df[merged_df['Datums_gelijk'] == False])"
   ]
  },
  {
   "cell_type": "code",
   "execution_count": 69,
   "metadata": {},
   "outputs": [
    {
     "name": "stdout",
     "output_type": "stream",
     "text": [
      "Index([4008204, 4008209, 4008210, 4008211, 4008212, 4008213, 4008214, 4008444,\n",
      "       4008445, 4008446,\n",
      "       ...\n",
      "       4011110, 4011115, 4011120, 4011126, 4011128, 4011129, 4011131, 4011142,\n",
      "       4011158, 4011165],\n",
      "      dtype='int64', name='Match_ID', length=315)\n"
     ]
    }
   ],
   "source": [
    "# Merge DataFrames\n",
    "merged_df = pd.merge(wedstrijden_df_unique, df, on='Match_ID', how='inner')\n",
    "\n",
    "max_scores_df = merged_df.groupby('Match_ID').agg({'Score thuisploeg_x': 'max', 'Score thuisploeg_y': 'max', \n",
    "                                                   'Score Uitploeg_x': 'max', 'Score Uitploeg_y': 'max'})\n",
    "\n",
    "# Controleren of uiteindelijke resultaat overeenkomt met doelpunten\n",
    "fouten = max_scores_df[(max_scores_df['Score thuisploeg_x'] != max_scores_df['Score thuisploeg_y']) | \n",
    "                        (max_scores_df['Score Uitploeg_x'] != max_scores_df['Score Uitploeg_y'])]\n",
    "\n",
    "if len(fouten) == 0:\n",
    "    print(\"Geen fouten\")\n",
    "else:\n",
    "    print(fouten.index)"
   ]
  }
 ],
 "metadata": {
  "kernelspec": {
   "display_name": "Python 3",
   "language": "python",
   "name": "python3"
  },
  "language_info": {
   "codemirror_mode": {
    "name": "ipython",
    "version": 3
   },
   "file_extension": ".py",
   "mimetype": "text/x-python",
   "name": "python",
   "nbconvert_exporter": "python",
   "pygments_lexer": "ipython3",
   "version": "3.11.3"
  }
 },
 "nbformat": 4,
 "nbformat_minor": 2
}
