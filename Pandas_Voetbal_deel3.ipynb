{
 "cells": [
  {
   "cell_type": "markdown",
   "metadata": {},
   "source": [
    "# Cleaning up doelpunten.csv file"
   ]
  },
  {
   "cell_type": "code",
<<<<<<< HEAD
   "execution_count": 1,
=======
   "execution_count": 44,
>>>>>>> 73f33c9 (Update)
   "metadata": {},
   "outputs": [],
   "source": [
    "import pandas as pd"
   ]
  },
  {
   "cell_type": "markdown",
   "metadata": {},
   "source": [
    "### Creating a dataframe"
   ]
  },
  {
   "cell_type": "code",
<<<<<<< HEAD
   "execution_count": 2,
=======
   "execution_count": 45,
>>>>>>> 73f33c9 (Update)
   "metadata": {},
   "outputs": [],
   "source": [
    "df = pd.read_csv(\"doelpunten.csv\", encoding='latin1', \n",
    "names=['Match_ID', 'Seizoen', 'Speeldag', 'Datum', 'Startuur', 'Thuisploeg', 'Uitploeg', \n",
    "'Scorende ploeg', 'Tijdstip goal', 'Score thuisploeg', 'Score Uitploeg'])"
   ]
  },
  {
   "cell_type": "code",
<<<<<<< HEAD
   "execution_count": 3,
=======
   "execution_count": 46,
>>>>>>> 73f33c9 (Update)
   "metadata": {},
   "outputs": [
    {
     "data": {
      "text/html": [
       "<div>\n",
       "<style scoped>\n",
       "    .dataframe tbody tr th:only-of-type {\n",
       "        vertical-align: middle;\n",
       "    }\n",
       "\n",
       "    .dataframe tbody tr th {\n",
       "        vertical-align: top;\n",
       "    }\n",
       "\n",
       "    .dataframe thead th {\n",
       "        text-align: right;\n",
       "    }\n",
       "</style>\n",
       "<table border=\"1\" class=\"dataframe\">\n",
       "  <thead>\n",
       "    <tr style=\"text-align: right;\">\n",
       "      <th></th>\n",
       "      <th>Match_ID</th>\n",
       "      <th>Seizoen</th>\n",
       "      <th>Speeldag</th>\n",
       "      <th>Datum</th>\n",
       "      <th>Startuur</th>\n",
       "      <th>Thuisploeg</th>\n",
       "      <th>Uitploeg</th>\n",
       "      <th>Scorende ploeg</th>\n",
       "      <th>Tijdstip goal</th>\n",
       "      <th>Score thuisploeg</th>\n",
       "      <th>Score Uitploeg</th>\n",
       "    </tr>\n",
       "  </thead>\n",
       "  <tbody>\n",
       "    <tr>\n",
       "      <th>0</th>\n",
       "      <td>4008203</td>\n",
       "      <td>60/61</td>\n",
<<<<<<< HEAD
       "      <td>1.0</td>\n",
=======
       "      <td>1</td>\n",
>>>>>>> 73f33c9 (Update)
       "      <td>4/09/1960</td>\n",
       "      <td>15:00</td>\n",
       "      <td>St-Truidense VV</td>\n",
       "      <td>Standard Luik</td>\n",
       "      <td>Standard Luik</td>\n",
       "      <td>15:14</td>\n",
<<<<<<< HEAD
       "      <td>0.0</td>\n",
       "      <td>1.0</td>\n",
=======
       "      <td>0</td>\n",
       "      <td>1</td>\n",
>>>>>>> 73f33c9 (Update)
       "    </tr>\n",
       "    <tr>\n",
       "      <th>1</th>\n",
       "      <td>4008203</td>\n",
       "      <td>60/61</td>\n",
<<<<<<< HEAD
       "      <td>1.0</td>\n",
=======
       "      <td>1</td>\n",
>>>>>>> 73f33c9 (Update)
       "      <td>4/09/1960</td>\n",
       "      <td>15:00</td>\n",
       "      <td>St-Truidense VV</td>\n",
       "      <td>Standard Luik</td>\n",
       "      <td>Standard Luik</td>\n",
       "      <td>15:19</td>\n",
<<<<<<< HEAD
       "      <td>0.0</td>\n",
       "      <td>2.0</td>\n",
=======
       "      <td>0</td>\n",
       "      <td>2</td>\n",
>>>>>>> 73f33c9 (Update)
       "    </tr>\n",
       "    <tr>\n",
       "      <th>2</th>\n",
       "      <td>4008204</td>\n",
       "      <td>60/61</td>\n",
<<<<<<< HEAD
       "      <td>1.0</td>\n",
=======
       "      <td>1</td>\n",
>>>>>>> 73f33c9 (Update)
       "      <td>4/09/1960</td>\n",
       "      <td>15:00</td>\n",
       "      <td>Eendracht Aalst</td>\n",
       "      <td>Antwerp FC</td>\n",
       "      <td>Antwerp FC</td>\n",
       "      <td>15:18</td>\n",
<<<<<<< HEAD
       "      <td>0.0</td>\n",
       "      <td>1.0</td>\n",
=======
       "      <td>0</td>\n",
       "      <td>1</td>\n",
>>>>>>> 73f33c9 (Update)
       "    </tr>\n",
       "    <tr>\n",
       "      <th>3</th>\n",
       "      <td>4008204</td>\n",
       "      <td>60/61</td>\n",
<<<<<<< HEAD
       "      <td>1.0</td>\n",
=======
       "      <td>1</td>\n",
>>>>>>> 73f33c9 (Update)
       "      <td>4/09/1960</td>\n",
       "      <td>15:00</td>\n",
       "      <td>Eendracht Aalst</td>\n",
       "      <td>Antwerp FC</td>\n",
       "      <td>Eendracht Aalst</td>\n",
       "      <td>15:18</td>\n",
<<<<<<< HEAD
       "      <td>1.0</td>\n",
       "      <td>1.0</td>\n",
=======
       "      <td>1</td>\n",
       "      <td>1</td>\n",
>>>>>>> 73f33c9 (Update)
       "    </tr>\n",
       "    <tr>\n",
       "      <th>4</th>\n",
       "      <td>4008204</td>\n",
       "      <td>60/61</td>\n",
<<<<<<< HEAD
       "      <td>1.0</td>\n",
=======
       "      <td>1</td>\n",
>>>>>>> 73f33c9 (Update)
       "      <td>4/09/1960</td>\n",
       "      <td>15:00</td>\n",
       "      <td>Eendracht Aalst</td>\n",
       "      <td>Antwerp FC</td>\n",
       "      <td>Eendracht Aalst</td>\n",
       "      <td>15:26</td>\n",
<<<<<<< HEAD
       "      <td>2.0</td>\n",
       "      <td>1.0</td>\n",
=======
       "      <td>2</td>\n",
       "      <td>1</td>\n",
>>>>>>> 73f33c9 (Update)
       "    </tr>\n",
       "  </tbody>\n",
       "</table>\n",
       "</div>"
      ],
      "text/plain": [
<<<<<<< HEAD
       "  Match_ID Seizoen  Speeldag      Datum Startuur       Thuisploeg   \n",
       "0  4008203   60/61       1.0  4/09/1960    15:00  St-Truidense VV  \\\n",
       "1  4008203   60/61       1.0  4/09/1960    15:00  St-Truidense VV   \n",
       "2  4008204   60/61       1.0  4/09/1960    15:00  Eendracht Aalst   \n",
       "3  4008204   60/61       1.0  4/09/1960    15:00  Eendracht Aalst   \n",
       "4  4008204   60/61       1.0  4/09/1960    15:00  Eendracht Aalst   \n",
       "\n",
       "        Uitploeg   Scorende ploeg Tijdstip goal  Score thuisploeg   \n",
       "0  Standard Luik    Standard Luik         15:14               0.0  \\\n",
       "1  Standard Luik    Standard Luik         15:19               0.0   \n",
       "2     Antwerp FC       Antwerp FC         15:18               0.0   \n",
       "3     Antwerp FC  Eendracht Aalst         15:18               1.0   \n",
       "4     Antwerp FC  Eendracht Aalst         15:26               2.0   \n",
       "\n",
       "   Score Uitploeg  \n",
       "0             1.0  \n",
       "1             2.0  \n",
       "2             1.0  \n",
       "3             1.0  \n",
       "4             1.0  "
      ]
     },
     "execution_count": 3,
=======
       "   Match_ID Seizoen  Speeldag      Datum Startuur       Thuisploeg   \n",
       "0   4008203   60/61         1  4/09/1960    15:00  St-Truidense VV  \\\n",
       "1   4008203   60/61         1  4/09/1960    15:00  St-Truidense VV   \n",
       "2   4008204   60/61         1  4/09/1960    15:00  Eendracht Aalst   \n",
       "3   4008204   60/61         1  4/09/1960    15:00  Eendracht Aalst   \n",
       "4   4008204   60/61         1  4/09/1960    15:00  Eendracht Aalst   \n",
       "\n",
       "        Uitploeg   Scorende ploeg Tijdstip goal  Score thuisploeg   \n",
       "0  Standard Luik    Standard Luik         15:14                 0  \\\n",
       "1  Standard Luik    Standard Luik         15:19                 0   \n",
       "2     Antwerp FC       Antwerp FC         15:18                 0   \n",
       "3     Antwerp FC  Eendracht Aalst         15:18                 1   \n",
       "4     Antwerp FC  Eendracht Aalst         15:26                 2   \n",
       "\n",
       "   Score Uitploeg  \n",
       "0               1  \n",
       "1               2  \n",
       "2               1  \n",
       "3               1  \n",
       "4               1  "
      ]
     },
     "execution_count": 46,
>>>>>>> 73f33c9 (Update)
     "metadata": {},
     "output_type": "execute_result"
    }
   ],
   "source": [
    "df.head()"
   ]
  },
  {
   "cell_type": "code",
<<<<<<< HEAD
   "execution_count": 4,
=======
   "execution_count": 47,
>>>>>>> 73f33c9 (Update)
   "metadata": {},
   "outputs": [
    {
     "data": {
      "text/plain": [
<<<<<<< HEAD
       "Match_ID             object\n",
       "Seizoen              object\n",
       "Speeldag            float64\n",
       "Datum                object\n",
       "Startuur             object\n",
       "Thuisploeg           object\n",
       "Uitploeg             object\n",
       "Scorende ploeg       object\n",
       "Tijdstip goal        object\n",
       "Score thuisploeg    float64\n",
       "Score Uitploeg      float64\n",
       "dtype: object"
      ]
     },
     "execution_count": 4,
=======
       "Match_ID             int64\n",
       "Seizoen             object\n",
       "Speeldag             int64\n",
       "Datum               object\n",
       "Startuur            object\n",
       "Thuisploeg          object\n",
       "Uitploeg            object\n",
       "Scorende ploeg      object\n",
       "Tijdstip goal       object\n",
       "Score thuisploeg     int64\n",
       "Score Uitploeg       int64\n",
       "dtype: object"
      ]
     },
     "execution_count": 47,
>>>>>>> 73f33c9 (Update)
     "metadata": {},
     "output_type": "execute_result"
    }
   ],
   "source": [
<<<<<<< HEAD
    "df.dtypes\n",
    "df['Tijdstip goal']"
=======
    "df.dtypes"
>>>>>>> 73f33c9 (Update)
   ]
  },
  {
   "cell_type": "code",
<<<<<<< HEAD
   "execution_count": 22,
=======
   "execution_count": 48,
>>>>>>> 73f33c9 (Update)
   "metadata": {},
   "outputs": [],
   "source": [
    "# tijdstip doelpunt in geheel getal\n",
    "def convert(row):\n",
<<<<<<< HEAD
    "    uur, minuut = df['Tijdstip goal'].str.split(\":\", expand=True)\n",
    "    start_uur, start_minuut = df['Startuur'].str.split(\":\", expand=True)\n",
=======
    "    startuur = row[4]\n",
    "    uur, minuut = map(int, row[8].split(':'))\n",
    "    start_uur, start_minuut = map(int, startuur.split(':'))\n",
>>>>>>> 73f33c9 (Update)
    "\n",
    "    if uur < start_uur:\n",
    "        absolute_minuten = (60 - start_minuut) + (uur + 1 - start_uur) * 60 + minuut\n",
    "    else:\n",
    "        absolute_minuten = (uur - start_uur) * 60 + minuut - start_minuut\n",
    "    \n",
    "    return absolute_minuten"
   ]
  },
  {
   "cell_type": "code",
<<<<<<< HEAD
   "execution_count": 23,
=======
   "execution_count": 49,
>>>>>>> 73f33c9 (Update)
   "metadata": {},
   "outputs": [],
   "source": [
    "df['Minuut goal'] = df.apply(convert, axis=1)"
   ]
  },
  {
   "cell_type": "code",
<<<<<<< HEAD
   "execution_count": 24,
=======
   "execution_count": 50,
>>>>>>> 73f33c9 (Update)
   "metadata": {},
   "outputs": [
    {
     "name": "stdout",
     "output_type": "stream",
     "text": [
      "0\n"
     ]
    }
   ],
   "source": [
    "controle_binnen_tijd = df[df['Minuut goal'] > 120]\n",
    "print(len(controle_binnen_tijd))"
   ]
  },
  {
   "cell_type": "code",
<<<<<<< HEAD
   "execution_count": 25,
=======
   "execution_count": 51,
>>>>>>> 73f33c9 (Update)
   "metadata": {},
   "outputs": [],
   "source": [
    "wedstrijden_df = pd.read_csv('wedstrijden.csv', encoding='latin1',\n",
    "names=['Match_ID', 'Seizoen', 'Speeldag', 'Datum', 'Startuur', 'Thuisploeg', \n",
    "'Score thuisploeg', 'Score Uitploeg', 'Uitploeg'])"
   ]
  },
  {
   "cell_type": "code",
<<<<<<< HEAD
   "execution_count": 17,
=======
   "execution_count": 52,
>>>>>>> 73f33c9 (Update)
   "metadata": {},
   "outputs": [
    {
     "name": "stderr",
     "output_type": "stream",
     "text": [
<<<<<<< HEAD
      "C:\\Users\\simon\\AppData\\Local\\Temp\\ipykernel_24408\\2203256583.py:5: SettingWithCopyWarning: \n",
=======
      "C:\\Users\\simon\\AppData\\Local\\Temp\\ipykernel_8360\\4134516261.py:6: SettingWithCopyWarning: \n",
>>>>>>> 73f33c9 (Update)
      "A value is trying to be set on a copy of a slice from a DataFrame.\n",
      "Try using .loc[row_indexer,col_indexer] = value instead\n",
      "\n",
      "See the caveats in the documentation: https://pandas.pydata.org/pandas-docs/stable/user_guide/indexing.html#returning-a-view-versus-a-copy\n",
      "  wedstrijden_df_unique['Match_ID'] = pd.to_numeric(wedstrijden_df_unique['Match_ID'], errors='coerce')\n"
     ]
<<<<<<< HEAD
    },
    {
     "ename": "IntCastingNaNError",
     "evalue": "Cannot convert non-finite values (NA or inf) to integer",
     "output_type": "error",
     "traceback": [
      "\u001b[1;31m---------------------------------------------------------------------------\u001b[0m",
      "\u001b[1;31mIntCastingNaNError\u001b[0m                        Traceback (most recent call last)",
      "Cell \u001b[1;32mIn[17], line 9\u001b[0m\n\u001b[0;32m      5\u001b[0m wedstrijden_df_unique[\u001b[38;5;124m'\u001b[39m\u001b[38;5;124mMatch_ID\u001b[39m\u001b[38;5;124m'\u001b[39m] \u001b[38;5;241m=\u001b[39m pd\u001b[38;5;241m.\u001b[39mto_numeric(wedstrijden_df_unique[\u001b[38;5;124m'\u001b[39m\u001b[38;5;124mMatch_ID\u001b[39m\u001b[38;5;124m'\u001b[39m], errors\u001b[38;5;241m=\u001b[39m\u001b[38;5;124m'\u001b[39m\u001b[38;5;124mcoerce\u001b[39m\u001b[38;5;124m'\u001b[39m)\n\u001b[0;32m      7\u001b[0m \u001b[38;5;66;03m# wedstrijden_df_unique = wedstrijden_df_unique.dropna(subset=['Match_ID'])\u001b[39;00m\n\u001b[1;32m----> 9\u001b[0m wedstrijden_df_unique[\u001b[38;5;124m'\u001b[39m\u001b[38;5;124mMatch_ID\u001b[39m\u001b[38;5;124m'\u001b[39m] \u001b[38;5;241m=\u001b[39m \u001b[43mwedstrijden_df_unique\u001b[49m\u001b[43m[\u001b[49m\u001b[38;5;124;43m'\u001b[39;49m\u001b[38;5;124;43mMatch_ID\u001b[39;49m\u001b[38;5;124;43m'\u001b[39;49m\u001b[43m]\u001b[49m\u001b[38;5;241;43m.\u001b[39;49m\u001b[43mastype\u001b[49m\u001b[43m(\u001b[49m\u001b[38;5;124;43m'\u001b[39;49m\u001b[38;5;124;43mint64\u001b[39;49m\u001b[38;5;124;43m'\u001b[39;49m\u001b[43m)\u001b[49m\n\u001b[0;32m     11\u001b[0m \u001b[38;5;66;03m# Merge DataFrames\u001b[39;00m\n\u001b[0;32m     12\u001b[0m merged_df \u001b[38;5;241m=\u001b[39m pd\u001b[38;5;241m.\u001b[39mmerge(df_unique, wedstrijden_df_unique, on\u001b[38;5;241m=\u001b[39m\u001b[38;5;124m'\u001b[39m\u001b[38;5;124mMatch_ID\u001b[39m\u001b[38;5;124m'\u001b[39m, how\u001b[38;5;241m=\u001b[39m\u001b[38;5;124m'\u001b[39m\u001b[38;5;124minner\u001b[39m\u001b[38;5;124m'\u001b[39m)\n",
      "File \u001b[1;32m~\\AppData\\Roaming\\Python\\Python311\\site-packages\\pandas\\core\\generic.py:6324\u001b[0m, in \u001b[0;36mNDFrame.astype\u001b[1;34m(self, dtype, copy, errors)\u001b[0m\n\u001b[0;32m   6317\u001b[0m     results \u001b[38;5;241m=\u001b[39m [\n\u001b[0;32m   6318\u001b[0m         \u001b[38;5;28mself\u001b[39m\u001b[38;5;241m.\u001b[39miloc[:, i]\u001b[38;5;241m.\u001b[39mastype(dtype, copy\u001b[38;5;241m=\u001b[39mcopy)\n\u001b[0;32m   6319\u001b[0m         \u001b[38;5;28;01mfor\u001b[39;00m i \u001b[38;5;129;01min\u001b[39;00m \u001b[38;5;28mrange\u001b[39m(\u001b[38;5;28mlen\u001b[39m(\u001b[38;5;28mself\u001b[39m\u001b[38;5;241m.\u001b[39mcolumns))\n\u001b[0;32m   6320\u001b[0m     ]\n\u001b[0;32m   6322\u001b[0m \u001b[38;5;28;01melse\u001b[39;00m:\n\u001b[0;32m   6323\u001b[0m     \u001b[38;5;66;03m# else, only a single dtype is given\u001b[39;00m\n\u001b[1;32m-> 6324\u001b[0m     new_data \u001b[38;5;241m=\u001b[39m \u001b[38;5;28;43mself\u001b[39;49m\u001b[38;5;241;43m.\u001b[39;49m\u001b[43m_mgr\u001b[49m\u001b[38;5;241;43m.\u001b[39;49m\u001b[43mastype\u001b[49m\u001b[43m(\u001b[49m\u001b[43mdtype\u001b[49m\u001b[38;5;241;43m=\u001b[39;49m\u001b[43mdtype\u001b[49m\u001b[43m,\u001b[49m\u001b[43m \u001b[49m\u001b[43mcopy\u001b[49m\u001b[38;5;241;43m=\u001b[39;49m\u001b[43mcopy\u001b[49m\u001b[43m,\u001b[49m\u001b[43m \u001b[49m\u001b[43merrors\u001b[49m\u001b[38;5;241;43m=\u001b[39;49m\u001b[43merrors\u001b[49m\u001b[43m)\u001b[49m\n\u001b[0;32m   6325\u001b[0m     \u001b[38;5;28;01mreturn\u001b[39;00m \u001b[38;5;28mself\u001b[39m\u001b[38;5;241m.\u001b[39m_constructor(new_data)\u001b[38;5;241m.\u001b[39m__finalize__(\u001b[38;5;28mself\u001b[39m, method\u001b[38;5;241m=\u001b[39m\u001b[38;5;124m\"\u001b[39m\u001b[38;5;124mastype\u001b[39m\u001b[38;5;124m\"\u001b[39m)\n\u001b[0;32m   6327\u001b[0m \u001b[38;5;66;03m# GH 33113: handle empty frame or series\u001b[39;00m\n",
      "File \u001b[1;32m~\\AppData\\Roaming\\Python\\Python311\\site-packages\\pandas\\core\\internals\\managers.py:451\u001b[0m, in \u001b[0;36mBaseBlockManager.astype\u001b[1;34m(self, dtype, copy, errors)\u001b[0m\n\u001b[0;32m    448\u001b[0m \u001b[38;5;28;01melif\u001b[39;00m using_copy_on_write():\n\u001b[0;32m    449\u001b[0m     copy \u001b[38;5;241m=\u001b[39m \u001b[38;5;28;01mFalse\u001b[39;00m\n\u001b[1;32m--> 451\u001b[0m \u001b[38;5;28;01mreturn\u001b[39;00m \u001b[38;5;28;43mself\u001b[39;49m\u001b[38;5;241;43m.\u001b[39;49m\u001b[43mapply\u001b[49m\u001b[43m(\u001b[49m\n\u001b[0;32m    452\u001b[0m \u001b[43m    \u001b[49m\u001b[38;5;124;43m\"\u001b[39;49m\u001b[38;5;124;43mastype\u001b[39;49m\u001b[38;5;124;43m\"\u001b[39;49m\u001b[43m,\u001b[49m\n\u001b[0;32m    453\u001b[0m \u001b[43m    \u001b[49m\u001b[43mdtype\u001b[49m\u001b[38;5;241;43m=\u001b[39;49m\u001b[43mdtype\u001b[49m\u001b[43m,\u001b[49m\n\u001b[0;32m    454\u001b[0m \u001b[43m    \u001b[49m\u001b[43mcopy\u001b[49m\u001b[38;5;241;43m=\u001b[39;49m\u001b[43mcopy\u001b[49m\u001b[43m,\u001b[49m\n\u001b[0;32m    455\u001b[0m \u001b[43m    \u001b[49m\u001b[43merrors\u001b[49m\u001b[38;5;241;43m=\u001b[39;49m\u001b[43merrors\u001b[49m\u001b[43m,\u001b[49m\n\u001b[0;32m    456\u001b[0m \u001b[43m    \u001b[49m\u001b[43musing_cow\u001b[49m\u001b[38;5;241;43m=\u001b[39;49m\u001b[43musing_copy_on_write\u001b[49m\u001b[43m(\u001b[49m\u001b[43m)\u001b[49m\u001b[43m,\u001b[49m\n\u001b[0;32m    457\u001b[0m \u001b[43m\u001b[49m\u001b[43m)\u001b[49m\n",
      "File \u001b[1;32m~\\AppData\\Roaming\\Python\\Python311\\site-packages\\pandas\\core\\internals\\managers.py:352\u001b[0m, in \u001b[0;36mBaseBlockManager.apply\u001b[1;34m(self, f, align_keys, **kwargs)\u001b[0m\n\u001b[0;32m    350\u001b[0m         applied \u001b[38;5;241m=\u001b[39m b\u001b[38;5;241m.\u001b[39mapply(f, \u001b[38;5;241m*\u001b[39m\u001b[38;5;241m*\u001b[39mkwargs)\n\u001b[0;32m    351\u001b[0m     \u001b[38;5;28;01melse\u001b[39;00m:\n\u001b[1;32m--> 352\u001b[0m         applied \u001b[38;5;241m=\u001b[39m \u001b[38;5;28;43mgetattr\u001b[39;49m\u001b[43m(\u001b[49m\u001b[43mb\u001b[49m\u001b[43m,\u001b[49m\u001b[43m \u001b[49m\u001b[43mf\u001b[49m\u001b[43m)\u001b[49m\u001b[43m(\u001b[49m\u001b[38;5;241;43m*\u001b[39;49m\u001b[38;5;241;43m*\u001b[39;49m\u001b[43mkwargs\u001b[49m\u001b[43m)\u001b[49m\n\u001b[0;32m    353\u001b[0m     result_blocks \u001b[38;5;241m=\u001b[39m extend_blocks(applied, result_blocks)\n\u001b[0;32m    355\u001b[0m out \u001b[38;5;241m=\u001b[39m \u001b[38;5;28mtype\u001b[39m(\u001b[38;5;28mself\u001b[39m)\u001b[38;5;241m.\u001b[39mfrom_blocks(result_blocks, \u001b[38;5;28mself\u001b[39m\u001b[38;5;241m.\u001b[39maxes)\n",
      "File \u001b[1;32m~\\AppData\\Roaming\\Python\\Python311\\site-packages\\pandas\\core\\internals\\blocks.py:511\u001b[0m, in \u001b[0;36mBlock.astype\u001b[1;34m(self, dtype, copy, errors, using_cow)\u001b[0m\n\u001b[0;32m    491\u001b[0m \u001b[38;5;250m\u001b[39m\u001b[38;5;124;03m\"\"\"\u001b[39;00m\n\u001b[0;32m    492\u001b[0m \u001b[38;5;124;03mCoerce to the new dtype.\u001b[39;00m\n\u001b[0;32m    493\u001b[0m \n\u001b[1;32m   (...)\u001b[0m\n\u001b[0;32m    507\u001b[0m \u001b[38;5;124;03mBlock\u001b[39;00m\n\u001b[0;32m    508\u001b[0m \u001b[38;5;124;03m\"\"\"\u001b[39;00m\n\u001b[0;32m    509\u001b[0m values \u001b[38;5;241m=\u001b[39m \u001b[38;5;28mself\u001b[39m\u001b[38;5;241m.\u001b[39mvalues\n\u001b[1;32m--> 511\u001b[0m new_values \u001b[38;5;241m=\u001b[39m \u001b[43mastype_array_safe\u001b[49m\u001b[43m(\u001b[49m\u001b[43mvalues\u001b[49m\u001b[43m,\u001b[49m\u001b[43m \u001b[49m\u001b[43mdtype\u001b[49m\u001b[43m,\u001b[49m\u001b[43m \u001b[49m\u001b[43mcopy\u001b[49m\u001b[38;5;241;43m=\u001b[39;49m\u001b[43mcopy\u001b[49m\u001b[43m,\u001b[49m\u001b[43m \u001b[49m\u001b[43merrors\u001b[49m\u001b[38;5;241;43m=\u001b[39;49m\u001b[43merrors\u001b[49m\u001b[43m)\u001b[49m\n\u001b[0;32m    513\u001b[0m new_values \u001b[38;5;241m=\u001b[39m maybe_coerce_values(new_values)\n\u001b[0;32m    515\u001b[0m refs \u001b[38;5;241m=\u001b[39m \u001b[38;5;28;01mNone\u001b[39;00m\n",
      "File \u001b[1;32m~\\AppData\\Roaming\\Python\\Python311\\site-packages\\pandas\\core\\dtypes\\astype.py:242\u001b[0m, in \u001b[0;36mastype_array_safe\u001b[1;34m(values, dtype, copy, errors)\u001b[0m\n\u001b[0;32m    239\u001b[0m     dtype \u001b[38;5;241m=\u001b[39m dtype\u001b[38;5;241m.\u001b[39mnumpy_dtype\n\u001b[0;32m    241\u001b[0m \u001b[38;5;28;01mtry\u001b[39;00m:\n\u001b[1;32m--> 242\u001b[0m     new_values \u001b[38;5;241m=\u001b[39m \u001b[43mastype_array\u001b[49m\u001b[43m(\u001b[49m\u001b[43mvalues\u001b[49m\u001b[43m,\u001b[49m\u001b[43m \u001b[49m\u001b[43mdtype\u001b[49m\u001b[43m,\u001b[49m\u001b[43m \u001b[49m\u001b[43mcopy\u001b[49m\u001b[38;5;241;43m=\u001b[39;49m\u001b[43mcopy\u001b[49m\u001b[43m)\u001b[49m\n\u001b[0;32m    243\u001b[0m \u001b[38;5;28;01mexcept\u001b[39;00m (\u001b[38;5;167;01mValueError\u001b[39;00m, \u001b[38;5;167;01mTypeError\u001b[39;00m):\n\u001b[0;32m    244\u001b[0m     \u001b[38;5;66;03m# e.g. _astype_nansafe can fail on object-dtype of strings\u001b[39;00m\n\u001b[0;32m    245\u001b[0m     \u001b[38;5;66;03m#  trying to convert to float\u001b[39;00m\n\u001b[0;32m    246\u001b[0m     \u001b[38;5;28;01mif\u001b[39;00m errors \u001b[38;5;241m==\u001b[39m \u001b[38;5;124m\"\u001b[39m\u001b[38;5;124mignore\u001b[39m\u001b[38;5;124m\"\u001b[39m:\n",
      "File \u001b[1;32m~\\AppData\\Roaming\\Python\\Python311\\site-packages\\pandas\\core\\dtypes\\astype.py:187\u001b[0m, in \u001b[0;36mastype_array\u001b[1;34m(values, dtype, copy)\u001b[0m\n\u001b[0;32m    184\u001b[0m     values \u001b[38;5;241m=\u001b[39m values\u001b[38;5;241m.\u001b[39mastype(dtype, copy\u001b[38;5;241m=\u001b[39mcopy)\n\u001b[0;32m    186\u001b[0m \u001b[38;5;28;01melse\u001b[39;00m:\n\u001b[1;32m--> 187\u001b[0m     values \u001b[38;5;241m=\u001b[39m \u001b[43m_astype_nansafe\u001b[49m\u001b[43m(\u001b[49m\u001b[43mvalues\u001b[49m\u001b[43m,\u001b[49m\u001b[43m \u001b[49m\u001b[43mdtype\u001b[49m\u001b[43m,\u001b[49m\u001b[43m \u001b[49m\u001b[43mcopy\u001b[49m\u001b[38;5;241;43m=\u001b[39;49m\u001b[43mcopy\u001b[49m\u001b[43m)\u001b[49m\n\u001b[0;32m    189\u001b[0m \u001b[38;5;66;03m# in pandas we don't store numpy str dtypes, so convert to object\u001b[39;00m\n\u001b[0;32m    190\u001b[0m \u001b[38;5;28;01mif\u001b[39;00m \u001b[38;5;28misinstance\u001b[39m(dtype, np\u001b[38;5;241m.\u001b[39mdtype) \u001b[38;5;129;01mand\u001b[39;00m \u001b[38;5;28missubclass\u001b[39m(values\u001b[38;5;241m.\u001b[39mdtype\u001b[38;5;241m.\u001b[39mtype, \u001b[38;5;28mstr\u001b[39m):\n",
      "File \u001b[1;32m~\\AppData\\Roaming\\Python\\Python311\\site-packages\\pandas\\core\\dtypes\\astype.py:105\u001b[0m, in \u001b[0;36m_astype_nansafe\u001b[1;34m(arr, dtype, copy, skipna)\u001b[0m\n\u001b[0;32m    100\u001b[0m     \u001b[38;5;28;01mreturn\u001b[39;00m lib\u001b[38;5;241m.\u001b[39mensure_string_array(\n\u001b[0;32m    101\u001b[0m         arr, skipna\u001b[38;5;241m=\u001b[39mskipna, convert_na_value\u001b[38;5;241m=\u001b[39m\u001b[38;5;28;01mFalse\u001b[39;00m\n\u001b[0;32m    102\u001b[0m     )\u001b[38;5;241m.\u001b[39mreshape(shape)\n\u001b[0;32m    104\u001b[0m \u001b[38;5;28;01melif\u001b[39;00m np\u001b[38;5;241m.\u001b[39missubdtype(arr\u001b[38;5;241m.\u001b[39mdtype, np\u001b[38;5;241m.\u001b[39mfloating) \u001b[38;5;129;01mand\u001b[39;00m is_integer_dtype(dtype):\n\u001b[1;32m--> 105\u001b[0m     \u001b[38;5;28;01mreturn\u001b[39;00m \u001b[43m_astype_float_to_int_nansafe\u001b[49m\u001b[43m(\u001b[49m\u001b[43marr\u001b[49m\u001b[43m,\u001b[49m\u001b[43m \u001b[49m\u001b[43mdtype\u001b[49m\u001b[43m,\u001b[49m\u001b[43m \u001b[49m\u001b[43mcopy\u001b[49m\u001b[43m)\u001b[49m\n\u001b[0;32m    107\u001b[0m \u001b[38;5;28;01melif\u001b[39;00m is_object_dtype(arr\u001b[38;5;241m.\u001b[39mdtype):\n\u001b[0;32m    108\u001b[0m     \u001b[38;5;66;03m# if we have a datetime/timedelta array of objects\u001b[39;00m\n\u001b[0;32m    109\u001b[0m     \u001b[38;5;66;03m# then coerce to datetime64[ns] and use DatetimeArray.astype\u001b[39;00m\n\u001b[0;32m    111\u001b[0m     \u001b[38;5;28;01mif\u001b[39;00m is_datetime64_dtype(dtype):\n",
      "File \u001b[1;32m~\\AppData\\Roaming\\Python\\Python311\\site-packages\\pandas\\core\\dtypes\\astype.py:150\u001b[0m, in \u001b[0;36m_astype_float_to_int_nansafe\u001b[1;34m(values, dtype, copy)\u001b[0m\n\u001b[0;32m    146\u001b[0m \u001b[38;5;250m\u001b[39m\u001b[38;5;124;03m\"\"\"\u001b[39;00m\n\u001b[0;32m    147\u001b[0m \u001b[38;5;124;03mastype with a check preventing converting NaN to an meaningless integer value.\u001b[39;00m\n\u001b[0;32m    148\u001b[0m \u001b[38;5;124;03m\"\"\"\u001b[39;00m\n\u001b[0;32m    149\u001b[0m \u001b[38;5;28;01mif\u001b[39;00m \u001b[38;5;129;01mnot\u001b[39;00m np\u001b[38;5;241m.\u001b[39misfinite(values)\u001b[38;5;241m.\u001b[39mall():\n\u001b[1;32m--> 150\u001b[0m     \u001b[38;5;28;01mraise\u001b[39;00m IntCastingNaNError(\n\u001b[0;32m    151\u001b[0m         \u001b[38;5;124m\"\u001b[39m\u001b[38;5;124mCannot convert non-finite values (NA or inf) to integer\u001b[39m\u001b[38;5;124m\"\u001b[39m\n\u001b[0;32m    152\u001b[0m     )\n\u001b[0;32m    153\u001b[0m \u001b[38;5;28;01mif\u001b[39;00m dtype\u001b[38;5;241m.\u001b[39mkind \u001b[38;5;241m==\u001b[39m \u001b[38;5;124m\"\u001b[39m\u001b[38;5;124mu\u001b[39m\u001b[38;5;124m\"\u001b[39m:\n\u001b[0;32m    154\u001b[0m     \u001b[38;5;66;03m# GH#45151\u001b[39;00m\n\u001b[0;32m    155\u001b[0m     \u001b[38;5;28;01mif\u001b[39;00m \u001b[38;5;129;01mnot\u001b[39;00m (values \u001b[38;5;241m>\u001b[39m\u001b[38;5;241m=\u001b[39m \u001b[38;5;241m0\u001b[39m)\u001b[38;5;241m.\u001b[39mall():\n",
      "\u001b[1;31mIntCastingNaNError\u001b[0m: Cannot convert non-finite values (NA or inf) to integer"
     ]
    }
   ],
   "source": [
=======
    }
   ],
   "source": [
    "# Dropping duplicates of Match_ID\n",
>>>>>>> 73f33c9 (Update)
    "df_unique = df.drop_duplicates(subset=['Match_ID'])\n",
    "wedstrijden_df_unique = wedstrijden_df.drop_duplicates(subset=['Match_ID'])\n",
    "\n",
    "# Convert Match_ID column in wedstrijden_df_unique to int64 data type\n",
    "wedstrijden_df_unique['Match_ID'] = pd.to_numeric(wedstrijden_df_unique['Match_ID'], errors='coerce')\n",
    "\n",
<<<<<<< HEAD
    "# wedstrijden_df_unique = wedstrijden_df_unique.dropna(subset=['Match_ID'])\n",
    "\n",
=======
    "# Drop rows with NaN values in Match_ID column\n",
    "wedstrijden_df_unique = wedstrijden_df_unique.dropna(subset=['Match_ID'])\n",
    "\n",
    "# Convert Match_ID column to int64 data type\n",
>>>>>>> 73f33c9 (Update)
    "wedstrijden_df_unique['Match_ID'] = wedstrijden_df_unique['Match_ID'].astype('int64')\n",
    "\n",
    "# Merge DataFrames\n",
    "merged_df = pd.merge(df_unique, wedstrijden_df_unique, on='Match_ID', how='inner')"
   ]
  },
  {
   "cell_type": "code",
<<<<<<< HEAD
   "execution_count": null,
=======
   "execution_count": 53,
>>>>>>> 73f33c9 (Update)
   "metadata": {},
   "outputs": [
    {
     "name": "stdout",
     "output_type": "stream",
     "text": [
      "Empty DataFrame\n",
      "Columns: [Match_ID, Seizoen_x, Speeldag_x, Datum_x, Startuur_x, Thuisploeg_x, Uitploeg_x, Scorende ploeg, Tijdstip goal, Score thuisploeg_x, Score Uitploeg_x, Minuut goal, Seizoen_y, Speeldag_y, Datum_y, Startuur_y, Thuisploeg_y, Score thuisploeg_y, Score Uitploeg_y, Uitploeg_y, Datums_gelijk]\n",
      "Index: []\n",
      "\n",
      "[0 rows x 21 columns]\n"
     ]
    }
   ],
   "source": [
    "# Datums van beide dataframes vergelijken\n",
    "merged_df['Datums_gelijk'] = merged_df['Datum_x'] == merged_df['Datum_y']\n",
    "\n",
    "print(merged_df[merged_df['Datums_gelijk'] == False])"
   ]
  },
  {
   "cell_type": "code",
<<<<<<< HEAD
   "execution_count": null,
=======
   "execution_count": 69,
>>>>>>> 73f33c9 (Update)
   "metadata": {},
   "outputs": [
    {
     "name": "stdout",
     "output_type": "stream",
     "text": [
      "Index([4008204, 4008209, 4008210, 4008211, 4008212, 4008213, 4008214, 4008444,\n",
      "       4008445, 4008446,\n",
      "       ...\n",
      "       4011110, 4011115, 4011120, 4011126, 4011128, 4011129, 4011131, 4011142,\n",
      "       4011158, 4011165],\n",
      "      dtype='int64', name='Match_ID', length=315)\n"
     ]
    }
   ],
   "source": [
    "# Merge DataFrames\n",
    "merged_df = pd.merge(wedstrijden_df_unique, df, on='Match_ID', how='inner')\n",
    "\n",
    "max_scores_df = merged_df.groupby('Match_ID').agg({'Score thuisploeg_x': 'max', 'Score thuisploeg_y': 'max', \n",
    "                                                   'Score Uitploeg_x': 'max', 'Score Uitploeg_y': 'max'})\n",
    "\n",
<<<<<<< HEAD
    "# Controleren of uiteindelijke resultaat overeenkomt met doelpunten\n",
=======
>>>>>>> 73f33c9 (Update)
    "fouten = max_scores_df[(max_scores_df['Score thuisploeg_x'] != max_scores_df['Score thuisploeg_y']) | \n",
    "                        (max_scores_df['Score Uitploeg_x'] != max_scores_df['Score Uitploeg_y'])]\n",
    "\n",
    "if len(fouten) == 0:\n",
    "    print(\"Geen fouten\")\n",
    "else:\n",
    "    print(fouten.index)"
   ]
  }
 ],
 "metadata": {
  "kernelspec": {
   "display_name": "Python 3",
   "language": "python",
   "name": "python3"
  },
  "language_info": {
   "codemirror_mode": {
    "name": "ipython",
    "version": 3
   },
   "file_extension": ".py",
   "mimetype": "text/x-python",
   "name": "python",
   "nbconvert_exporter": "python",
   "pygments_lexer": "ipython3",
   "version": "3.11.3"
  }
 },
 "nbformat": 4,
 "nbformat_minor": 2
}
