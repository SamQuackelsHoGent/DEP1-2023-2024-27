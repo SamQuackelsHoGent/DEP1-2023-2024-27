{
  "nbformat": 4,
  "nbformat_minor": 0,
  "metadata": {
    "colab": {
      "provenance": []
    },
    "kernelspec": {
      "name": "python3",
      "display_name": "Python 3"
    },
    "language_info": {
      "name": "python"
    }
  },
  "cells": [
    {
      "cell_type": "markdown",
      "source": [
        "# Cleaning up klassement.csv file"
      ],
      "metadata": {
        "id": "AUUuyTNdwxup"
      }
    },
    {
      "cell_type": "code",
      "execution_count": 27,
      "metadata": {
        "id": "89CN09sF5O8A"
      },
      "outputs": [],
      "source": [
        "import pandas as pd"
      ]
    },
    {
      "cell_type": "code",
      "source": [
        "!pip install fuzzywuzzy"
      ],
      "metadata": {
        "colab": {
          "base_uri": "https://localhost:8080/"
        },
        "id": "eIUL4qVVWhLe",
        "outputId": "87984f92-a143-404f-d996-e45c17601296"
      },
      "execution_count": 28,
      "outputs": [
        {
          "output_type": "stream",
          "name": "stdout",
          "text": [
            "Requirement already satisfied: fuzzywuzzy in /usr/local/lib/python3.10/dist-packages (0.18.0)\n"
          ]
        }
      ]
    },
    {
      "cell_type": "code",
      "source": [
        "from fuzzywuzzy import fuzz\n",
        "from fuzzywuzzy import process"
      ],
      "metadata": {
        "id": "SAfdoGbQWqs6"
      },
      "execution_count": 29,
      "outputs": []
    },
    {
      "cell_type": "markdown",
      "source": [
        "### Creating a dataframe"
      ],
      "metadata": {
        "id": "qNjJ3PQdw4hn"
      }
    },
    {
      "cell_type": "code",
      "source": [
        "# Read in the csv file into a pandas dataframe using the read_csv method\n",
        "columns = [\"seizoen\",\"speeldag\",\"stand\",\"ploeg\",\"aantal_gespeelde_matchen\",\"aantal_gewonnen_matchen\",\"aantal_gelijkgespeelde_matchen\",\"aantal_verloren_matchen\",\"doelpunten\",\"puntenverschil\",\"punten\"]\n",
        "df = pd.read_csv(\"voetbalData_Deel_2.csv\")"
      ],
      "metadata": {
        "id": "mrZ98HiV5ahA"
      },
      "execution_count": 30,
      "outputs": []
    },
    {
      "cell_type": "code",
      "source": [
        "# Show the first few rows\n",
        "df.head()"
      ],
      "metadata": {
        "colab": {
          "base_uri": "https://localhost:8080/",
          "height": 295
        },
        "id": "iuTpfbzC5vNN",
        "outputId": "e3b5f1ed-c899-459e-c321-90ebce796e5e"
      },
      "execution_count": 31,
      "outputs": [
        {
          "output_type": "execute_result",
          "data": {
            "text/plain": [
              "  seizoen    speeldag  stand            ploeg  aantal_gespeelde_matchen  \\\n",
              "0   60/61  1.speeldag      1   RSC Anderlecht                         1   \n",
              "1   60/61  1.speeldag      2  Waterschei THOR                         1   \n",
              "2   60/61  1.speeldag      3    Standard Luik                         1   \n",
              "3   60/61  1.speeldag      4  Eendracht Aalst                         1   \n",
              "4   60/61  1.speeldag      5         RFC Luik                         1   \n",
              "\n",
              "   aantal_gewonnen_matchen  aantal_gelijkgespeelde_matchen  \\\n",
              "0                        1                               0   \n",
              "1                        1                               0   \n",
              "2                        1                               0   \n",
              "3                        1                               0   \n",
              "4                        1                               0   \n",
              "\n",
              "   aantal_verloren_matchen doelpunten  puntenverschil punten  \n",
              "0                        0        7:0               7    2:0  \n",
              "1                        0        5:0               5    2:0  \n",
              "2                        0        2:0               2    2:0  \n",
              "3                        0        3:2               1    2:0  \n",
              "4                        0        2:1               1    2:0  "
            ],
            "text/html": [
              "\n",
              "  <div id=\"df-66d457c0-d899-4e58-9a85-0a4683afd649\" class=\"colab-df-container\">\n",
              "    <div>\n",
              "<style scoped>\n",
              "    .dataframe tbody tr th:only-of-type {\n",
              "        vertical-align: middle;\n",
              "    }\n",
              "\n",
              "    .dataframe tbody tr th {\n",
              "        vertical-align: top;\n",
              "    }\n",
              "\n",
              "    .dataframe thead th {\n",
              "        text-align: right;\n",
              "    }\n",
              "</style>\n",
              "<table border=\"1\" class=\"dataframe\">\n",
              "  <thead>\n",
              "    <tr style=\"text-align: right;\">\n",
              "      <th></th>\n",
              "      <th>seizoen</th>\n",
              "      <th>speeldag</th>\n",
              "      <th>stand</th>\n",
              "      <th>ploeg</th>\n",
              "      <th>aantal_gespeelde_matchen</th>\n",
              "      <th>aantal_gewonnen_matchen</th>\n",
              "      <th>aantal_gelijkgespeelde_matchen</th>\n",
              "      <th>aantal_verloren_matchen</th>\n",
              "      <th>doelpunten</th>\n",
              "      <th>puntenverschil</th>\n",
              "      <th>punten</th>\n",
              "    </tr>\n",
              "  </thead>\n",
              "  <tbody>\n",
              "    <tr>\n",
              "      <th>0</th>\n",
              "      <td>60/61</td>\n",
              "      <td>1.speeldag</td>\n",
              "      <td>1</td>\n",
              "      <td>RSC Anderlecht</td>\n",
              "      <td>1</td>\n",
              "      <td>1</td>\n",
              "      <td>0</td>\n",
              "      <td>0</td>\n",
              "      <td>7:0</td>\n",
              "      <td>7</td>\n",
              "      <td>2:0</td>\n",
              "    </tr>\n",
              "    <tr>\n",
              "      <th>1</th>\n",
              "      <td>60/61</td>\n",
              "      <td>1.speeldag</td>\n",
              "      <td>2</td>\n",
              "      <td>Waterschei THOR</td>\n",
              "      <td>1</td>\n",
              "      <td>1</td>\n",
              "      <td>0</td>\n",
              "      <td>0</td>\n",
              "      <td>5:0</td>\n",
              "      <td>5</td>\n",
              "      <td>2:0</td>\n",
              "    </tr>\n",
              "    <tr>\n",
              "      <th>2</th>\n",
              "      <td>60/61</td>\n",
              "      <td>1.speeldag</td>\n",
              "      <td>3</td>\n",
              "      <td>Standard Luik</td>\n",
              "      <td>1</td>\n",
              "      <td>1</td>\n",
              "      <td>0</td>\n",
              "      <td>0</td>\n",
              "      <td>2:0</td>\n",
              "      <td>2</td>\n",
              "      <td>2:0</td>\n",
              "    </tr>\n",
              "    <tr>\n",
              "      <th>3</th>\n",
              "      <td>60/61</td>\n",
              "      <td>1.speeldag</td>\n",
              "      <td>4</td>\n",
              "      <td>Eendracht Aalst</td>\n",
              "      <td>1</td>\n",
              "      <td>1</td>\n",
              "      <td>0</td>\n",
              "      <td>0</td>\n",
              "      <td>3:2</td>\n",
              "      <td>1</td>\n",
              "      <td>2:0</td>\n",
              "    </tr>\n",
              "    <tr>\n",
              "      <th>4</th>\n",
              "      <td>60/61</td>\n",
              "      <td>1.speeldag</td>\n",
              "      <td>5</td>\n",
              "      <td>RFC Luik</td>\n",
              "      <td>1</td>\n",
              "      <td>1</td>\n",
              "      <td>0</td>\n",
              "      <td>0</td>\n",
              "      <td>2:1</td>\n",
              "      <td>1</td>\n",
              "      <td>2:0</td>\n",
              "    </tr>\n",
              "  </tbody>\n",
              "</table>\n",
              "</div>\n",
              "    <div class=\"colab-df-buttons\">\n",
              "\n",
              "  <div class=\"colab-df-container\">\n",
              "    <button class=\"colab-df-convert\" onclick=\"convertToInteractive('df-66d457c0-d899-4e58-9a85-0a4683afd649')\"\n",
              "            title=\"Convert this dataframe to an interactive table.\"\n",
              "            style=\"display:none;\">\n",
              "\n",
              "  <svg xmlns=\"http://www.w3.org/2000/svg\" height=\"24px\" viewBox=\"0 -960 960 960\">\n",
              "    <path d=\"M120-120v-720h720v720H120Zm60-500h600v-160H180v160Zm220 220h160v-160H400v160Zm0 220h160v-160H400v160ZM180-400h160v-160H180v160Zm440 0h160v-160H620v160ZM180-180h160v-160H180v160Zm440 0h160v-160H620v160Z\"/>\n",
              "  </svg>\n",
              "    </button>\n",
              "\n",
              "  <style>\n",
              "    .colab-df-container {\n",
              "      display:flex;\n",
              "      gap: 12px;\n",
              "    }\n",
              "\n",
              "    .colab-df-convert {\n",
              "      background-color: #E8F0FE;\n",
              "      border: none;\n",
              "      border-radius: 50%;\n",
              "      cursor: pointer;\n",
              "      display: none;\n",
              "      fill: #1967D2;\n",
              "      height: 32px;\n",
              "      padding: 0 0 0 0;\n",
              "      width: 32px;\n",
              "    }\n",
              "\n",
              "    .colab-df-convert:hover {\n",
              "      background-color: #E2EBFA;\n",
              "      box-shadow: 0px 1px 2px rgba(60, 64, 67, 0.3), 0px 1px 3px 1px rgba(60, 64, 67, 0.15);\n",
              "      fill: #174EA6;\n",
              "    }\n",
              "\n",
              "    .colab-df-buttons div {\n",
              "      margin-bottom: 4px;\n",
              "    }\n",
              "\n",
              "    [theme=dark] .colab-df-convert {\n",
              "      background-color: #3B4455;\n",
              "      fill: #D2E3FC;\n",
              "    }\n",
              "\n",
              "    [theme=dark] .colab-df-convert:hover {\n",
              "      background-color: #434B5C;\n",
              "      box-shadow: 0px 1px 3px 1px rgba(0, 0, 0, 0.15);\n",
              "      filter: drop-shadow(0px 1px 2px rgba(0, 0, 0, 0.3));\n",
              "      fill: #FFFFFF;\n",
              "    }\n",
              "  </style>\n",
              "\n",
              "    <script>\n",
              "      const buttonEl =\n",
              "        document.querySelector('#df-66d457c0-d899-4e58-9a85-0a4683afd649 button.colab-df-convert');\n",
              "      buttonEl.style.display =\n",
              "        google.colab.kernel.accessAllowed ? 'block' : 'none';\n",
              "\n",
              "      async function convertToInteractive(key) {\n",
              "        const element = document.querySelector('#df-66d457c0-d899-4e58-9a85-0a4683afd649');\n",
              "        const dataTable =\n",
              "          await google.colab.kernel.invokeFunction('convertToInteractive',\n",
              "                                                    [key], {});\n",
              "        if (!dataTable) return;\n",
              "\n",
              "        const docLinkHtml = 'Like what you see? Visit the ' +\n",
              "          '<a target=\"_blank\" href=https://colab.research.google.com/notebooks/data_table.ipynb>data table notebook</a>'\n",
              "          + ' to learn more about interactive tables.';\n",
              "        element.innerHTML = '';\n",
              "        dataTable['output_type'] = 'display_data';\n",
              "        await google.colab.output.renderOutput(dataTable, element);\n",
              "        const docLink = document.createElement('div');\n",
              "        docLink.innerHTML = docLinkHtml;\n",
              "        element.appendChild(docLink);\n",
              "      }\n",
              "    </script>\n",
              "  </div>\n",
              "\n",
              "\n",
              "<div id=\"df-459d7c6c-27bb-4923-bacb-a4c3b52bc78b\">\n",
              "  <button class=\"colab-df-quickchart\" onclick=\"quickchart('df-459d7c6c-27bb-4923-bacb-a4c3b52bc78b')\"\n",
              "            title=\"Suggest charts\"\n",
              "            style=\"display:none;\">\n",
              "\n",
              "<svg xmlns=\"http://www.w3.org/2000/svg\" height=\"24px\"viewBox=\"0 0 24 24\"\n",
              "     width=\"24px\">\n",
              "    <g>\n",
              "        <path d=\"M19 3H5c-1.1 0-2 .9-2 2v14c0 1.1.9 2 2 2h14c1.1 0 2-.9 2-2V5c0-1.1-.9-2-2-2zM9 17H7v-7h2v7zm4 0h-2V7h2v10zm4 0h-2v-4h2v4z\"/>\n",
              "    </g>\n",
              "</svg>\n",
              "  </button>\n",
              "\n",
              "<style>\n",
              "  .colab-df-quickchart {\n",
              "      --bg-color: #E8F0FE;\n",
              "      --fill-color: #1967D2;\n",
              "      --hover-bg-color: #E2EBFA;\n",
              "      --hover-fill-color: #174EA6;\n",
              "      --disabled-fill-color: #AAA;\n",
              "      --disabled-bg-color: #DDD;\n",
              "  }\n",
              "\n",
              "  [theme=dark] .colab-df-quickchart {\n",
              "      --bg-color: #3B4455;\n",
              "      --fill-color: #D2E3FC;\n",
              "      --hover-bg-color: #434B5C;\n",
              "      --hover-fill-color: #FFFFFF;\n",
              "      --disabled-bg-color: #3B4455;\n",
              "      --disabled-fill-color: #666;\n",
              "  }\n",
              "\n",
              "  .colab-df-quickchart {\n",
              "    background-color: var(--bg-color);\n",
              "    border: none;\n",
              "    border-radius: 50%;\n",
              "    cursor: pointer;\n",
              "    display: none;\n",
              "    fill: var(--fill-color);\n",
              "    height: 32px;\n",
              "    padding: 0;\n",
              "    width: 32px;\n",
              "  }\n",
              "\n",
              "  .colab-df-quickchart:hover {\n",
              "    background-color: var(--hover-bg-color);\n",
              "    box-shadow: 0 1px 2px rgba(60, 64, 67, 0.3), 0 1px 3px 1px rgba(60, 64, 67, 0.15);\n",
              "    fill: var(--button-hover-fill-color);\n",
              "  }\n",
              "\n",
              "  .colab-df-quickchart-complete:disabled,\n",
              "  .colab-df-quickchart-complete:disabled:hover {\n",
              "    background-color: var(--disabled-bg-color);\n",
              "    fill: var(--disabled-fill-color);\n",
              "    box-shadow: none;\n",
              "  }\n",
              "\n",
              "  .colab-df-spinner {\n",
              "    border: 2px solid var(--fill-color);\n",
              "    border-color: transparent;\n",
              "    border-bottom-color: var(--fill-color);\n",
              "    animation:\n",
              "      spin 1s steps(1) infinite;\n",
              "  }\n",
              "\n",
              "  @keyframes spin {\n",
              "    0% {\n",
              "      border-color: transparent;\n",
              "      border-bottom-color: var(--fill-color);\n",
              "      border-left-color: var(--fill-color);\n",
              "    }\n",
              "    20% {\n",
              "      border-color: transparent;\n",
              "      border-left-color: var(--fill-color);\n",
              "      border-top-color: var(--fill-color);\n",
              "    }\n",
              "    30% {\n",
              "      border-color: transparent;\n",
              "      border-left-color: var(--fill-color);\n",
              "      border-top-color: var(--fill-color);\n",
              "      border-right-color: var(--fill-color);\n",
              "    }\n",
              "    40% {\n",
              "      border-color: transparent;\n",
              "      border-right-color: var(--fill-color);\n",
              "      border-top-color: var(--fill-color);\n",
              "    }\n",
              "    60% {\n",
              "      border-color: transparent;\n",
              "      border-right-color: var(--fill-color);\n",
              "    }\n",
              "    80% {\n",
              "      border-color: transparent;\n",
              "      border-right-color: var(--fill-color);\n",
              "      border-bottom-color: var(--fill-color);\n",
              "    }\n",
              "    90% {\n",
              "      border-color: transparent;\n",
              "      border-bottom-color: var(--fill-color);\n",
              "    }\n",
              "  }\n",
              "</style>\n",
              "\n",
              "  <script>\n",
              "    async function quickchart(key) {\n",
              "      const quickchartButtonEl =\n",
              "        document.querySelector('#' + key + ' button');\n",
              "      quickchartButtonEl.disabled = true;  // To prevent multiple clicks.\n",
              "      quickchartButtonEl.classList.add('colab-df-spinner');\n",
              "      try {\n",
              "        const charts = await google.colab.kernel.invokeFunction(\n",
              "            'suggestCharts', [key], {});\n",
              "      } catch (error) {\n",
              "        console.error('Error during call to suggestCharts:', error);\n",
              "      }\n",
              "      quickchartButtonEl.classList.remove('colab-df-spinner');\n",
              "      quickchartButtonEl.classList.add('colab-df-quickchart-complete');\n",
              "    }\n",
              "    (() => {\n",
              "      let quickchartButtonEl =\n",
              "        document.querySelector('#df-459d7c6c-27bb-4923-bacb-a4c3b52bc78b button');\n",
              "      quickchartButtonEl.style.display =\n",
              "        google.colab.kernel.accessAllowed ? 'block' : 'none';\n",
              "    })();\n",
              "  </script>\n",
              "</div>\n",
              "    </div>\n",
              "  </div>\n"
            ],
            "application/vnd.google.colaboratory.intrinsic+json": {
              "type": "dataframe",
              "variable_name": "df",
              "summary": "{\n  \"name\": \"df\",\n  \"rows\": 32594,\n  \"fields\": [\n    {\n      \"column\": \"seizoen\",\n      \"properties\": {\n        \"dtype\": \"category\",\n        \"num_unique_values\": 63,\n        \"samples\": [\n          \"21/22\",\n          \"17/18\",\n          \"60/61\"\n        ],\n        \"semantic_type\": \"\",\n        \"description\": \"\"\n      }\n    },\n    {\n      \"column\": \"speeldag\",\n      \"properties\": {\n        \"dtype\": \"category\",\n        \"num_unique_values\": 30,\n        \"samples\": [\n          \"28.speeldag\",\n          \"16.speeldag\",\n          \"24.speeldag\"\n        ],\n        \"semantic_type\": \"\",\n        \"description\": \"\"\n      }\n    },\n    {\n      \"column\": \"stand\",\n      \"properties\": {\n        \"dtype\": \"number\",\n        \"std\": 5,\n        \"min\": 0,\n        \"max\": 89,\n        \"num_unique_values\": 28,\n        \"samples\": [\n          14,\n          79,\n          13\n        ],\n        \"semantic_type\": \"\",\n        \"description\": \"\"\n      }\n    },\n    {\n      \"column\": \"ploeg\",\n      \"properties\": {\n        \"dtype\": \"category\",\n        \"num_unique_values\": 69,\n        \"samples\": [\n          \"RFC Tilleur\",\n          \"RSC Anderlecht\",\n          \"KRC Genk\"\n        ],\n        \"semantic_type\": \"\",\n        \"description\": \"\"\n      }\n    },\n    {\n      \"column\": \"aantal_gespeelde_matchen\",\n      \"properties\": {\n        \"dtype\": \"number\",\n        \"std\": 8,\n        \"min\": 0,\n        \"max\": 30,\n        \"num_unique_values\": 31,\n        \"samples\": [\n          28,\n          16,\n          24\n        ],\n        \"semantic_type\": \"\",\n        \"description\": \"\"\n      }\n    },\n    {\n      \"column\": \"aantal_gewonnen_matchen\",\n      \"properties\": {\n        \"dtype\": \"number\",\n        \"std\": 4,\n        \"min\": 0,\n        \"max\": 24,\n        \"num_unique_values\": 25,\n        \"samples\": [\n          8,\n          16,\n          1\n        ],\n        \"semantic_type\": \"\",\n        \"description\": \"\"\n      }\n    },\n    {\n      \"column\": \"aantal_gelijkgespeelde_matchen\",\n      \"properties\": {\n        \"dtype\": \"number\",\n        \"std\": 2,\n        \"min\": 0,\n        \"max\": 17,\n        \"num_unique_values\": 18,\n        \"samples\": [\n          0,\n          1,\n          8\n        ],\n        \"semantic_type\": \"\",\n        \"description\": \"\"\n      }\n    },\n    {\n      \"column\": \"aantal_verloren_matchen\",\n      \"properties\": {\n        \"dtype\": \"number\",\n        \"std\": 4,\n        \"min\": 0,\n        \"max\": 23,\n        \"num_unique_values\": 24,\n        \"samples\": [\n          8,\n          16,\n          0\n        ],\n        \"semantic_type\": \"\",\n        \"description\": \"\"\n      }\n    },\n    {\n      \"column\": \"doelpunten\",\n      \"properties\": {\n        \"dtype\": \"category\",\n        \"num_unique_values\": 3133,\n        \"samples\": [\n          \"44:56\",\n          \"50:39\",\n          \"41:52\"\n        ],\n        \"semantic_type\": \"\",\n        \"description\": \"\"\n      }\n    },\n    {\n      \"column\": \"puntenverschil\",\n      \"properties\": {\n        \"dtype\": \"number\",\n        \"std\": 12,\n        \"min\": -68,\n        \"max\": 70,\n        \"num_unique_values\": 125,\n        \"samples\": [\n          -10,\n          22,\n          17\n        ],\n        \"semantic_type\": \"\",\n        \"description\": \"\"\n      }\n    },\n    {\n      \"column\": \"punten\",\n      \"properties\": {\n        \"dtype\": \"category\",\n        \"num_unique_values\": 1364,\n        \"samples\": [\n          \"30:30\",\n          \"8:1417\",\n          \"2:620\"\n        ],\n        \"semantic_type\": \"\",\n        \"description\": \"\"\n      }\n    }\n  ]\n}"
            }
          },
          "metadata": {},
          "execution_count": 31
        }
      ]
    },
    {
      "cell_type": "code",
      "source": [
        "# Shows the columns dtypes\n",
        "df.dtypes"
      ],
      "metadata": {
        "colab": {
          "base_uri": "https://localhost:8080/"
        },
        "id": "cbnFj8qoMMba",
        "outputId": "eb4652c0-18a5-49b6-ad2b-39e3a98af029"
      },
      "execution_count": 32,
      "outputs": [
        {
          "output_type": "execute_result",
          "data": {
            "text/plain": [
              "seizoen                           object\n",
              "speeldag                          object\n",
              "stand                              int64\n",
              "ploeg                             object\n",
              "aantal_gespeelde_matchen           int64\n",
              "aantal_gewonnen_matchen            int64\n",
              "aantal_gelijkgespeelde_matchen     int64\n",
              "aantal_verloren_matchen            int64\n",
              "doelpunten                        object\n",
              "puntenverschil                     int64\n",
              "punten                            object\n",
              "dtype: object"
            ]
          },
          "metadata": {},
          "execution_count": 32
        }
      ]
    },
    {
      "cell_type": "markdown",
      "source": [
        "### Removing the text from the day column"
      ],
      "metadata": {
        "id": "DZFef_7qxOnm"
      }
    },
    {
      "cell_type": "code",
      "source": [
        "# Removing all the text from the day column\n",
        "for dag in range(1, 35):\n",
        "  df.loc[df[\"speeldag\"] == f\"{dag}.speeldag\", \"speeldag\"] = dag"
      ],
      "metadata": {
        "id": "3sjgh4WOyXwB"
      },
      "execution_count": 33,
      "outputs": []
    },
    {
      "cell_type": "code",
      "source": [
        "# Show the unique values for the day column\n",
        "df.speeldag.unique()"
      ],
      "metadata": {
        "colab": {
          "base_uri": "https://localhost:8080/"
        },
        "id": "4Lu9__7kP8h3",
        "outputId": "2b201435-57c0-4ada-83f8-90d0753b2b2c"
      },
      "execution_count": 34,
      "outputs": [
        {
          "output_type": "execute_result",
          "data": {
            "text/plain": [
              "array([1, 2, 3, 4, 5, 6, 7, 8, 9, 10, 11, 12, 13, 14, 15, 16, 17, 18, 19,\n",
              "       20, 21, 22, 23, 24, 25, 26, 27, 28, 29, 30], dtype=object)"
            ]
          },
          "metadata": {},
          "execution_count": 34
        }
      ]
    },
    {
      "cell_type": "markdown",
      "source": [
        "### Changing the dtype of the day column to int"
      ],
      "metadata": {
        "id": "bWb7uo4hxWuw"
      }
    },
    {
      "cell_type": "code",
      "source": [
        "# Changing the dtype of the day column to int\n",
        "df.speeldag = df.speeldag.astype('int64')"
      ],
      "metadata": {
        "id": "-9pOscZfRA2n"
      },
      "execution_count": 35,
      "outputs": []
    },
    {
      "cell_type": "code",
      "source": [
        "# Checking if the dtype has changed\n",
        "df.speeldag.dtype"
      ],
      "metadata": {
        "colab": {
          "base_uri": "https://localhost:8080/"
        },
        "id": "OBqYhpi7R4UB",
        "outputId": "1f04b3e0-d514-4737-8a62-cf2eeffff0a5"
      },
      "execution_count": 36,
      "outputs": [
        {
          "output_type": "execute_result",
          "data": {
            "text/plain": [
              "dtype('int64')"
            ]
          },
          "metadata": {},
          "execution_count": 36
        }
      ]
    },
    {
      "cell_type": "markdown",
      "source": [
        "### Recalculate all the pointscores using the newer 3 point system"
      ],
      "metadata": {
        "id": "zHkTibcHxehf"
      }
    },
    {
      "cell_type": "code",
      "source": [
        "# calculate new points\n",
        "nieuwePunten = (df.aantal_gewonnen_matchen)*3 + (df.aantal_gelijkgespeelde_matchen)*1\n",
        "# change the older values\n",
        "df.punten = nieuwePunten"
      ],
      "metadata": {
        "id": "QrI6kawKTeRi"
      },
      "execution_count": 37,
      "outputs": []
    },
    {
      "cell_type": "code",
      "source": [
        "# Show the unique values for the points column\n",
        "df.punten.unique()"
      ],
      "metadata": {
        "colab": {
          "base_uri": "https://localhost:8080/"
        },
        "id": "IYqOSkjeDWv4",
        "outputId": "631fac1a-f6b9-4e14-b1f7-4360ae4fb35f"
      },
      "execution_count": 38,
      "outputs": [
        {
          "output_type": "execute_result",
          "data": {
            "text/plain": [
              "array([ 3,  0,  6,  1,  9,  7,  4,  2, 12, 10, 13,  8,  5, 14, 11, 17, 20,\n",
              "       16, 15, 23, 19, 18, 21, 24, 22, 25, 26, 27, 28, 31, 29, 32, 30, 35,\n",
              "       33, 38, 34, 39, 36, 42, 43, 40, 37, 46, 49, 50, 53, 56, 52, 41, 59,\n",
              "       60, 45, 63, 44, 47, 54, 57, 66, 67, 48, 51, 68, 69, 70, 58, 55, 61,\n",
              "       64, 62, 65, 71, 72, 75, 73, 76, 74])"
            ]
          },
          "metadata": {},
          "execution_count": 38
        }
      ]
    },
    {
      "cell_type": "markdown",
      "source": [
        "### Changing the dtype of the points column to float"
      ],
      "metadata": {
        "id": "ogwqQzCvxzrQ"
      }
    },
    {
      "cell_type": "code",
      "source": [
        "# Changing the dtype of the day column to float\n",
        "df.punten = df.punten.astype('int64')"
      ],
      "metadata": {
        "id": "E8EKw34DtFSM"
      },
      "execution_count": 39,
      "outputs": []
    },
    {
      "cell_type": "code",
      "source": [
        "# Checking if the dtype has changed\n",
        "df.punten.dtype"
      ],
      "metadata": {
        "colab": {
          "base_uri": "https://localhost:8080/"
        },
        "id": "OfW3REZXwoO1",
        "outputId": "b35a97b9-43a8-4449-e530-ed73a6b9ae89"
      },
      "execution_count": 40,
      "outputs": [
        {
          "output_type": "execute_result",
          "data": {
            "text/plain": [
              "dtype('int64')"
            ]
          },
          "metadata": {},
          "execution_count": 40
        }
      ]
    },
    {
      "cell_type": "markdown",
      "source": [
        "### Adding the team id"
      ],
      "metadata": {
        "id": "FM1OPlyaGAT1"
      }
    },
    {
      "cell_type": "code",
      "source": [
        "namenPloegen = df.ploeg.unique()"
      ],
      "metadata": {
        "id": "JCCLUmVJV3gc"
      },
      "execution_count": 41,
      "outputs": []
    },
    {
      "cell_type": "code",
      "source": [
        "import requests\n",
        "from bs4 import BeautifulSoup"
      ],
      "metadata": {
        "id": "i7Dml1VnYqBG"
      },
      "execution_count": 42,
      "outputs": []
    },
    {
      "cell_type": "code",
      "source": [
        "soup = \"\"\n",
        "URL= f\"https://nl.wikipedia.org/wiki/Lijst_van_voetbalclubs_in_België_naar_seizoenen_in_eerste_klasse\"\n",
        "# headers={'User-Agent': 'Mozilla/5.0 (X11; Linux armv7l) AppleWebKit/537.36 (KHTML, like Gecko) Chrome/88.0.4324.182 Odin/88.4324.2.10 Safari/537.36 Model/Hisense-MT9602 VIDAA/6.0(Hisense;SmartTV;43A53FUV;MTK9602/V0000.06.12A.N0406;UHD;HU43A6100F;)'}\n",
        "page= requests.get(URL)\n",
        "soup= BeautifulSoup(page.content, \"html.parser\")\n",
        "table = soup.select(\"#main main, table.wikitable tbody tr td:nth-of-type(1)\")"
      ],
      "metadata": {
        "id": "JAXoqFtzYoVL"
      },
      "execution_count": 43,
      "outputs": []
    },
    {
      "cell_type": "code",
      "source": [
        "nummersdata = \"\"\n",
        "for row in table:\n",
        "  nummersdata += row.get_text()\n",
        "  nummersdata += \"|\"\n",
        "nummersdata = nummersdata.split(\"|\")"
      ],
      "metadata": {
        "id": "0LhrBM23Z310"
      },
      "execution_count": 44,
      "outputs": []
    },
    {
      "cell_type": "code",
      "source": [
        "print(nummersdata)"
      ],
      "metadata": {
        "colab": {
          "base_uri": "https://localhost:8080/"
        },
        "id": "NzBStj9zbgy9",
        "outputId": "dd9a8d5c-e6f5-47d0-8df4-445f33858892"
      },
      "execution_count": 45,
      "outputs": [
        {
          "output_type": "stream",
          "name": "stdout",
          "text": [
            "['16', '1', '3', '35', '12', '7', '13', '30', '25', '4', '10', '22', '2', '373', '47', '282', '28', '6', '2300', '19', '322', '24', '4451', '522', '246', '3530', '21', '2024', '8', '11', '5', '5381', '90', '553', '224', '31', '52', '1986', '4276', '4068', '322', '44', '93', '58', '41', '/ /', '18', '17', '216', '1615', '134', '51', '20', '1936', '53', '55', '15', '4549', '221', '148', '/ /', '167', '13', '3900', '54', '375', '64', '/ /', '5479', '5632', '2614', '395', '37', '3434', '36', '26', '18', '132', '77', '/ /', '/ /', '/ /', '/ /', '/ /', '/ /', 'FC Brugeois (Club Brugge)', 'ARA La Gantoise (KAA Gent)', 'CS Brugeois (Cercle Brugge)', 'RC Malines (RC Mechelen)', 'FC Malinois (KV Mechelen)', 'RC Gantois (RC Gent)', 'FC Sérésien (FC Seraing)', 'Sporting Lokeren Sint-Niklaas Waasland(KSC Lokeren OV)', 'FC Brugge (Club Brugge)', '']\n"
          ]
        }
      ]
    },
    {
      "cell_type": "code",
      "source": [
        "soup = \"\"\n",
        "URL= f\"https://nl.wikipedia.org/wiki/Lijst_van_voetbalclubs_in_België_naar_seizoenen_in_eerste_klasse\"\n",
        "# headers={'User-Agent': 'Mozilla/5.0 (X11; Linux armv7l) AppleWebKit/537.36 (KHTML, like Gecko) Chrome/88.0.4324.182 Odin/88.4324.2.10 Safari/537.36 Model/Hisense-MT9602 VIDAA/6.0(Hisense;SmartTV;43A53FUV;MTK9602/V0000.06.12A.N0406;UHD;HU43A6100F;)'}\n",
        "page= requests.get(URL)\n",
        "soup= BeautifulSoup(page.content, \"html.parser\")\n",
        "table = soup.select(\"#main main, table.wikitable tbody tr td:nth-of-type(2)\")"
      ],
      "metadata": {
        "id": "JBcp-D9Lbsk6"
      },
      "execution_count": 46,
      "outputs": []
    },
    {
      "cell_type": "code",
      "source": [
        "ploegenData = \"\"\n",
        "for row in table:\n",
        "  ploegenData += row.get_text()\n",
        "  ploegenData += \"|\"\n",
        "ploegenData = ploegenData.split(\"|\")"
      ],
      "metadata": {
        "id": "gv6Dd9Q9nGLE"
      },
      "execution_count": 47,
      "outputs": []
    },
    {
      "cell_type": "code",
      "source": [
        "print(ploegenData)"
      ],
      "metadata": {
        "colab": {
          "base_uri": "https://localhost:8080/"
        },
        "id": "Zh5GhRTOnaoT",
        "outputId": "67d435e6-53da-4fe1-d759-e5e3b652ba2c"
      },
      "execution_count": 48,
      "outputs": [
        {
          "output_type": "stream",
          "name": "stdout",
          "text": [
            "['Standard Luik', 'Antwerp FC', 'Club Brugge', 'RSC Anderlecht', 'Cercle Brugge', 'KAA Gent', 'K. Beerschot VAV', 'Lierse SK', 'KV Mechelen', 'RFC Liégeois', 'Union Sint-Gillis', 'Royal Charleroi Sporting Club', 'Daring Club de Bruxelles', 'Sint-Truidense VV', 'RWDM', 'KSC Lokeren OV', 'Berchem Sport', 'Racing Club de Bruxelles', 'KSK Beveren', 'KV Kortrijk', 'KRC Genk', 'Racing Mechelen', 'KSV Waregem', 'Beringen FC', 'Olympic Charleroi', 'K. Beerschot AC', 'R. Tilleur FC', 'KVC Westerlo ', 'RCS Verviétois', 'KRC Gent', 'Léopold Club de Bruxelles', 'SV Zulte Waregem', 'KSC Eendracht Aalst', 'K. Waterschei SV Thor', 'Excelsior Moeskroen', 'KV Oostende', 'Koninklijke Lyra', 'KFC Lommelse SK', 'KAS Eupen', 'KVRS Waasland - SK Beveren ', 'KFC Winterslag', 'RAEC Mons', 'RAA Louviéroise', 'Boom FC', 'KFC Diest', 'Athletic and Running Club de Bruxelles', 'OH Leuven', 'RFC Seraing', 'Royal Excel Moeskroen', 'KRC Harelbeke', 'KSV Roeselare', 'RCS La Forestoise', 'Excelsior SC de Bruxelles', 'FC Brussels', 'AS Oostende KM', 'R. Crossing Club de Schaerbeek', 'Royal Uccle Sport', 'Racing Jet de Bruxelles', 'K. Sint-Niklase SK', 'KFC Turnhout', 'Skill FC de Bruxelles', 'RFC Seraing', 'Beerschot VA', 'FCV Dender EH', 'KSK Tongeren', 'Belgica FC Edegem', 'Tubantia FAC', 'Sporting Club de Bruxelles', 'RWDM', 'AFC Tubize', 'K. Heusden-Zolder', 'KFC Verbroedering Geel', 'KSC Hasselt', 'VV Patro Eisden', 'RRC Tournai', 'RUS Tournaisienne', 'Stade Leuven', 'RC Tirlemont', 'Racing FC Montegnée', 'Olympia Club de Bruxelles', 'FC Courtraisien', 'Oostendsche FC', 'AC Gantois', 'Sport Pédestre de Gand', \"Union FC d'Ixelles\", '51\\n', '41\\n', '31\\n', '19\\n', '19\\n', '9\\n', '6\\n', '4\\n', '2\\n', '']\n"
          ]
        }
      ]
    },
    {
      "cell_type": "code",
      "source": [
        "stamnummers = []\n",
        "for i in df.ploeg:\n",
        "  ratio = 0\n",
        "  gekozenPloeg = 0\n",
        "  teller = 0\n",
        "  for ploeg in ploegenData:\n",
        "    if ratio < fuzz.ratio(ploeg, i):\n",
        "      gekozenPloeg = ploeg\n",
        "      ratio = fuzz.ratio(ploeg, i)\n",
        "      stand = teller\n",
        "    teller+=1\n",
        "  stamnummers.append(nummersdata[stand])"
      ],
      "metadata": {
        "id": "C_uNgNOhsEoj"
      },
      "execution_count": 100,
      "outputs": []
    },
    {
      "cell_type": "code",
      "source": [
        "print(len(stamnummers))"
      ],
      "metadata": {
        "colab": {
          "base_uri": "https://localhost:8080/"
        },
        "id": "MoXqzEwi1XMd",
        "outputId": "22b80c75-0985-452c-cf4b-bc1016096a06"
      },
      "execution_count": 101,
      "outputs": [
        {
          "output_type": "stream",
          "name": "stdout",
          "text": [
            "32594\n"
          ]
        }
      ]
    },
    {
      "cell_type": "code",
      "source": [
        "print(df.shape)"
      ],
      "metadata": {
        "colab": {
          "base_uri": "https://localhost:8080/"
        },
        "id": "EN7xIEVm4rqs",
        "outputId": "263a2c8f-2368-4ac9-f03d-739422555d09"
      },
      "execution_count": 97,
      "outputs": [
        {
          "output_type": "stream",
          "name": "stdout",
          "text": [
            "(32594, 12)\n"
          ]
        }
      ]
    },
    {
      "cell_type": "code",
      "source": [
        "df[\"stamnummers\"] = stamnummers"
      ],
      "metadata": {
        "id": "a_l849DPu3Vh"
      },
      "execution_count": 102,
      "outputs": []
    },
    {
      "cell_type": "code",
      "source": [
        "df.stamnummers = df.stamnummers.astype('int64')"
      ],
      "metadata": {
        "id": "9Hy2PpHJzM7P"
      },
      "execution_count": 103,
      "outputs": []
    },
    {
      "cell_type": "code",
      "source": [
        "len(df.stamnummers.unique())"
      ],
      "metadata": {
        "colab": {
          "base_uri": "https://localhost:8080/"
        },
        "id": "DLdQ6ERezjBt",
        "outputId": "871901a0-f7d7-4dd8-a3e2-80a8a5470343"
      },
      "execution_count": 105,
      "outputs": [
        {
          "output_type": "execute_result",
          "data": {
            "text/plain": [
              "55"
            ]
          },
          "metadata": {},
          "execution_count": 105
        }
      ]
    },
    {
      "cell_type": "code",
      "source": [
        "len(df.ploeg.unique())"
      ],
      "metadata": {
        "colab": {
          "base_uri": "https://localhost:8080/"
        },
        "id": "GBP1d-kFzqnH",
        "outputId": "dbaef3de-493d-484d-ab62-27be815a593f"
      },
      "execution_count": 106,
      "outputs": [
        {
          "output_type": "execute_result",
          "data": {
            "text/plain": [
              "69"
            ]
          },
          "metadata": {},
          "execution_count": 106
        }
      ]
    },
    {
      "cell_type": "code",
      "source": [
        "df.head(20)"
      ],
      "metadata": {
        "colab": {
          "base_uri": "https://localhost:8080/",
          "height": 939
        },
        "id": "VOP0Qyo43nLs",
        "outputId": "e051b4a6-d216-499f-e42f-6a82c76e74f5"
      },
      "execution_count": 107,
      "outputs": [
        {
          "output_type": "execute_result",
          "data": {
            "text/plain": [
              "   seizoen  speeldag  stand             ploeg  aantal_gespeelde_matchen  \\\n",
              "0    60/61         1      1    RSC Anderlecht                         1   \n",
              "1    60/61         1      2   Waterschei THOR                         1   \n",
              "2    60/61         1      3     Standard Luik                         1   \n",
              "3    60/61         1      4   Eendracht Aalst                         1   \n",
              "4    60/61         1      5          RFC Luik                         1   \n",
              "5    60/61         1      5          Union SG                         1   \n",
              "6    60/61         1      5       Daring Club                         1   \n",
              "7    60/61         1      8      Beerschot AC                         1   \n",
              "8    60/61         1      9        Antwerp FC                         1   \n",
              "9    60/61         1     10          ARA Gent                         1   \n",
              "10   60/61         1     10       Club Brugge                         1   \n",
              "11   60/61         1     10    K Patro Eisden                         1   \n",
              "12   60/61         1     13        Verviétois                         1   \n",
              "13   60/61         1     14   St-Truidense VV                         1   \n",
              "14   60/61         1     15         Lierse SK                         1   \n",
              "15   60/61         1     16  Olymp. Charleroi                         1   \n",
              "16   60/61         2      1   Waterschei THOR                         2   \n",
              "17   60/61         2      2     Standard Luik                         2   \n",
              "18   60/61         2      3          Union SG                         2   \n",
              "19   60/61         2      4          RFC Luik                         2   \n",
              "\n",
              "    aantal_gewonnen_matchen  aantal_gelijkgespeelde_matchen  \\\n",
              "0                         1                               0   \n",
              "1                         1                               0   \n",
              "2                         1                               0   \n",
              "3                         1                               0   \n",
              "4                         1                               0   \n",
              "5                         1                               0   \n",
              "6                         1                               0   \n",
              "7                         1                               0   \n",
              "8                         0                               0   \n",
              "9                         0                               0   \n",
              "10                        0                               0   \n",
              "11                        0                               0   \n",
              "12                        0                               0   \n",
              "13                        0                               0   \n",
              "14                        0                               0   \n",
              "15                        0                               0   \n",
              "16                        2                               0   \n",
              "17                        2                               0   \n",
              "18                        2                               0   \n",
              "19                        2                               0   \n",
              "\n",
              "    aantal_verloren_matchen doelpunten  puntenverschil  punten  stamnummers  \n",
              "0                         0        7:0               7       3           35  \n",
              "1                         0        5:0               5       3          553  \n",
              "2                         0        2:0               2       3           16  \n",
              "3                         0        3:2               1       3           90  \n",
              "4                         0        2:1               1       3            4  \n",
              "5                         0        2:1               1       3           10  \n",
              "6                         0        2:1               1       3            2  \n",
              "7                         0        1:0               1       3           13  \n",
              "8                         1        2:3              -1       0            1  \n",
              "9                         1        1:2              -1       0            7  \n",
              "10                        1        1:2              -1       0            3  \n",
              "11                        1        1:2              -1       0         3434  \n",
              "12                        1        0:1              -1       0            8  \n",
              "13                        1        0:2              -2       0          373  \n",
              "14                        1        0:5              -5       0           30  \n",
              "15                        1        0:7              -7       0          246  \n",
              "16                        0        8:1               7       6          553  \n",
              "17                        0        5:0               5       6           16  \n",
              "18                        0        5:1               4       6           10  \n",
              "19                        0        5:3               2       6            4  "
            ],
            "text/html": [
              "\n",
              "  <div id=\"df-e9de6fe8-215d-4020-b009-65e61eb79363\" class=\"colab-df-container\">\n",
              "    <div>\n",
              "<style scoped>\n",
              "    .dataframe tbody tr th:only-of-type {\n",
              "        vertical-align: middle;\n",
              "    }\n",
              "\n",
              "    .dataframe tbody tr th {\n",
              "        vertical-align: top;\n",
              "    }\n",
              "\n",
              "    .dataframe thead th {\n",
              "        text-align: right;\n",
              "    }\n",
              "</style>\n",
              "<table border=\"1\" class=\"dataframe\">\n",
              "  <thead>\n",
              "    <tr style=\"text-align: right;\">\n",
              "      <th></th>\n",
              "      <th>seizoen</th>\n",
              "      <th>speeldag</th>\n",
              "      <th>stand</th>\n",
              "      <th>ploeg</th>\n",
              "      <th>aantal_gespeelde_matchen</th>\n",
              "      <th>aantal_gewonnen_matchen</th>\n",
              "      <th>aantal_gelijkgespeelde_matchen</th>\n",
              "      <th>aantal_verloren_matchen</th>\n",
              "      <th>doelpunten</th>\n",
              "      <th>puntenverschil</th>\n",
              "      <th>punten</th>\n",
              "      <th>stamnummers</th>\n",
              "    </tr>\n",
              "  </thead>\n",
              "  <tbody>\n",
              "    <tr>\n",
              "      <th>0</th>\n",
              "      <td>60/61</td>\n",
              "      <td>1</td>\n",
              "      <td>1</td>\n",
              "      <td>RSC Anderlecht</td>\n",
              "      <td>1</td>\n",
              "      <td>1</td>\n",
              "      <td>0</td>\n",
              "      <td>0</td>\n",
              "      <td>7:0</td>\n",
              "      <td>7</td>\n",
              "      <td>3</td>\n",
              "      <td>35</td>\n",
              "    </tr>\n",
              "    <tr>\n",
              "      <th>1</th>\n",
              "      <td>60/61</td>\n",
              "      <td>1</td>\n",
              "      <td>2</td>\n",
              "      <td>Waterschei THOR</td>\n",
              "      <td>1</td>\n",
              "      <td>1</td>\n",
              "      <td>0</td>\n",
              "      <td>0</td>\n",
              "      <td>5:0</td>\n",
              "      <td>5</td>\n",
              "      <td>3</td>\n",
              "      <td>553</td>\n",
              "    </tr>\n",
              "    <tr>\n",
              "      <th>2</th>\n",
              "      <td>60/61</td>\n",
              "      <td>1</td>\n",
              "      <td>3</td>\n",
              "      <td>Standard Luik</td>\n",
              "      <td>1</td>\n",
              "      <td>1</td>\n",
              "      <td>0</td>\n",
              "      <td>0</td>\n",
              "      <td>2:0</td>\n",
              "      <td>2</td>\n",
              "      <td>3</td>\n",
              "      <td>16</td>\n",
              "    </tr>\n",
              "    <tr>\n",
              "      <th>3</th>\n",
              "      <td>60/61</td>\n",
              "      <td>1</td>\n",
              "      <td>4</td>\n",
              "      <td>Eendracht Aalst</td>\n",
              "      <td>1</td>\n",
              "      <td>1</td>\n",
              "      <td>0</td>\n",
              "      <td>0</td>\n",
              "      <td>3:2</td>\n",
              "      <td>1</td>\n",
              "      <td>3</td>\n",
              "      <td>90</td>\n",
              "    </tr>\n",
              "    <tr>\n",
              "      <th>4</th>\n",
              "      <td>60/61</td>\n",
              "      <td>1</td>\n",
              "      <td>5</td>\n",
              "      <td>RFC Luik</td>\n",
              "      <td>1</td>\n",
              "      <td>1</td>\n",
              "      <td>0</td>\n",
              "      <td>0</td>\n",
              "      <td>2:1</td>\n",
              "      <td>1</td>\n",
              "      <td>3</td>\n",
              "      <td>4</td>\n",
              "    </tr>\n",
              "    <tr>\n",
              "      <th>5</th>\n",
              "      <td>60/61</td>\n",
              "      <td>1</td>\n",
              "      <td>5</td>\n",
              "      <td>Union SG</td>\n",
              "      <td>1</td>\n",
              "      <td>1</td>\n",
              "      <td>0</td>\n",
              "      <td>0</td>\n",
              "      <td>2:1</td>\n",
              "      <td>1</td>\n",
              "      <td>3</td>\n",
              "      <td>10</td>\n",
              "    </tr>\n",
              "    <tr>\n",
              "      <th>6</th>\n",
              "      <td>60/61</td>\n",
              "      <td>1</td>\n",
              "      <td>5</td>\n",
              "      <td>Daring Club</td>\n",
              "      <td>1</td>\n",
              "      <td>1</td>\n",
              "      <td>0</td>\n",
              "      <td>0</td>\n",
              "      <td>2:1</td>\n",
              "      <td>1</td>\n",
              "      <td>3</td>\n",
              "      <td>2</td>\n",
              "    </tr>\n",
              "    <tr>\n",
              "      <th>7</th>\n",
              "      <td>60/61</td>\n",
              "      <td>1</td>\n",
              "      <td>8</td>\n",
              "      <td>Beerschot AC</td>\n",
              "      <td>1</td>\n",
              "      <td>1</td>\n",
              "      <td>0</td>\n",
              "      <td>0</td>\n",
              "      <td>1:0</td>\n",
              "      <td>1</td>\n",
              "      <td>3</td>\n",
              "      <td>13</td>\n",
              "    </tr>\n",
              "    <tr>\n",
              "      <th>8</th>\n",
              "      <td>60/61</td>\n",
              "      <td>1</td>\n",
              "      <td>9</td>\n",
              "      <td>Antwerp FC</td>\n",
              "      <td>1</td>\n",
              "      <td>0</td>\n",
              "      <td>0</td>\n",
              "      <td>1</td>\n",
              "      <td>2:3</td>\n",
              "      <td>-1</td>\n",
              "      <td>0</td>\n",
              "      <td>1</td>\n",
              "    </tr>\n",
              "    <tr>\n",
              "      <th>9</th>\n",
              "      <td>60/61</td>\n",
              "      <td>1</td>\n",
              "      <td>10</td>\n",
              "      <td>ARA Gent</td>\n",
              "      <td>1</td>\n",
              "      <td>0</td>\n",
              "      <td>0</td>\n",
              "      <td>1</td>\n",
              "      <td>1:2</td>\n",
              "      <td>-1</td>\n",
              "      <td>0</td>\n",
              "      <td>7</td>\n",
              "    </tr>\n",
              "    <tr>\n",
              "      <th>10</th>\n",
              "      <td>60/61</td>\n",
              "      <td>1</td>\n",
              "      <td>10</td>\n",
              "      <td>Club Brugge</td>\n",
              "      <td>1</td>\n",
              "      <td>0</td>\n",
              "      <td>0</td>\n",
              "      <td>1</td>\n",
              "      <td>1:2</td>\n",
              "      <td>-1</td>\n",
              "      <td>0</td>\n",
              "      <td>3</td>\n",
              "    </tr>\n",
              "    <tr>\n",
              "      <th>11</th>\n",
              "      <td>60/61</td>\n",
              "      <td>1</td>\n",
              "      <td>10</td>\n",
              "      <td>K Patro Eisden</td>\n",
              "      <td>1</td>\n",
              "      <td>0</td>\n",
              "      <td>0</td>\n",
              "      <td>1</td>\n",
              "      <td>1:2</td>\n",
              "      <td>-1</td>\n",
              "      <td>0</td>\n",
              "      <td>3434</td>\n",
              "    </tr>\n",
              "    <tr>\n",
              "      <th>12</th>\n",
              "      <td>60/61</td>\n",
              "      <td>1</td>\n",
              "      <td>13</td>\n",
              "      <td>Verviétois</td>\n",
              "      <td>1</td>\n",
              "      <td>0</td>\n",
              "      <td>0</td>\n",
              "      <td>1</td>\n",
              "      <td>0:1</td>\n",
              "      <td>-1</td>\n",
              "      <td>0</td>\n",
              "      <td>8</td>\n",
              "    </tr>\n",
              "    <tr>\n",
              "      <th>13</th>\n",
              "      <td>60/61</td>\n",
              "      <td>1</td>\n",
              "      <td>14</td>\n",
              "      <td>St-Truidense VV</td>\n",
              "      <td>1</td>\n",
              "      <td>0</td>\n",
              "      <td>0</td>\n",
              "      <td>1</td>\n",
              "      <td>0:2</td>\n",
              "      <td>-2</td>\n",
              "      <td>0</td>\n",
              "      <td>373</td>\n",
              "    </tr>\n",
              "    <tr>\n",
              "      <th>14</th>\n",
              "      <td>60/61</td>\n",
              "      <td>1</td>\n",
              "      <td>15</td>\n",
              "      <td>Lierse SK</td>\n",
              "      <td>1</td>\n",
              "      <td>0</td>\n",
              "      <td>0</td>\n",
              "      <td>1</td>\n",
              "      <td>0:5</td>\n",
              "      <td>-5</td>\n",
              "      <td>0</td>\n",
              "      <td>30</td>\n",
              "    </tr>\n",
              "    <tr>\n",
              "      <th>15</th>\n",
              "      <td>60/61</td>\n",
              "      <td>1</td>\n",
              "      <td>16</td>\n",
              "      <td>Olymp. Charleroi</td>\n",
              "      <td>1</td>\n",
              "      <td>0</td>\n",
              "      <td>0</td>\n",
              "      <td>1</td>\n",
              "      <td>0:7</td>\n",
              "      <td>-7</td>\n",
              "      <td>0</td>\n",
              "      <td>246</td>\n",
              "    </tr>\n",
              "    <tr>\n",
              "      <th>16</th>\n",
              "      <td>60/61</td>\n",
              "      <td>2</td>\n",
              "      <td>1</td>\n",
              "      <td>Waterschei THOR</td>\n",
              "      <td>2</td>\n",
              "      <td>2</td>\n",
              "      <td>0</td>\n",
              "      <td>0</td>\n",
              "      <td>8:1</td>\n",
              "      <td>7</td>\n",
              "      <td>6</td>\n",
              "      <td>553</td>\n",
              "    </tr>\n",
              "    <tr>\n",
              "      <th>17</th>\n",
              "      <td>60/61</td>\n",
              "      <td>2</td>\n",
              "      <td>2</td>\n",
              "      <td>Standard Luik</td>\n",
              "      <td>2</td>\n",
              "      <td>2</td>\n",
              "      <td>0</td>\n",
              "      <td>0</td>\n",
              "      <td>5:0</td>\n",
              "      <td>5</td>\n",
              "      <td>6</td>\n",
              "      <td>16</td>\n",
              "    </tr>\n",
              "    <tr>\n",
              "      <th>18</th>\n",
              "      <td>60/61</td>\n",
              "      <td>2</td>\n",
              "      <td>3</td>\n",
              "      <td>Union SG</td>\n",
              "      <td>2</td>\n",
              "      <td>2</td>\n",
              "      <td>0</td>\n",
              "      <td>0</td>\n",
              "      <td>5:1</td>\n",
              "      <td>4</td>\n",
              "      <td>6</td>\n",
              "      <td>10</td>\n",
              "    </tr>\n",
              "    <tr>\n",
              "      <th>19</th>\n",
              "      <td>60/61</td>\n",
              "      <td>2</td>\n",
              "      <td>4</td>\n",
              "      <td>RFC Luik</td>\n",
              "      <td>2</td>\n",
              "      <td>2</td>\n",
              "      <td>0</td>\n",
              "      <td>0</td>\n",
              "      <td>5:3</td>\n",
              "      <td>2</td>\n",
              "      <td>6</td>\n",
              "      <td>4</td>\n",
              "    </tr>\n",
              "  </tbody>\n",
              "</table>\n",
              "</div>\n",
              "    <div class=\"colab-df-buttons\">\n",
              "\n",
              "  <div class=\"colab-df-container\">\n",
              "    <button class=\"colab-df-convert\" onclick=\"convertToInteractive('df-e9de6fe8-215d-4020-b009-65e61eb79363')\"\n",
              "            title=\"Convert this dataframe to an interactive table.\"\n",
              "            style=\"display:none;\">\n",
              "\n",
              "  <svg xmlns=\"http://www.w3.org/2000/svg\" height=\"24px\" viewBox=\"0 -960 960 960\">\n",
              "    <path d=\"M120-120v-720h720v720H120Zm60-500h600v-160H180v160Zm220 220h160v-160H400v160Zm0 220h160v-160H400v160ZM180-400h160v-160H180v160Zm440 0h160v-160H620v160ZM180-180h160v-160H180v160Zm440 0h160v-160H620v160Z\"/>\n",
              "  </svg>\n",
              "    </button>\n",
              "\n",
              "  <style>\n",
              "    .colab-df-container {\n",
              "      display:flex;\n",
              "      gap: 12px;\n",
              "    }\n",
              "\n",
              "    .colab-df-convert {\n",
              "      background-color: #E8F0FE;\n",
              "      border: none;\n",
              "      border-radius: 50%;\n",
              "      cursor: pointer;\n",
              "      display: none;\n",
              "      fill: #1967D2;\n",
              "      height: 32px;\n",
              "      padding: 0 0 0 0;\n",
              "      width: 32px;\n",
              "    }\n",
              "\n",
              "    .colab-df-convert:hover {\n",
              "      background-color: #E2EBFA;\n",
              "      box-shadow: 0px 1px 2px rgba(60, 64, 67, 0.3), 0px 1px 3px 1px rgba(60, 64, 67, 0.15);\n",
              "      fill: #174EA6;\n",
              "    }\n",
              "\n",
              "    .colab-df-buttons div {\n",
              "      margin-bottom: 4px;\n",
              "    }\n",
              "\n",
              "    [theme=dark] .colab-df-convert {\n",
              "      background-color: #3B4455;\n",
              "      fill: #D2E3FC;\n",
              "    }\n",
              "\n",
              "    [theme=dark] .colab-df-convert:hover {\n",
              "      background-color: #434B5C;\n",
              "      box-shadow: 0px 1px 3px 1px rgba(0, 0, 0, 0.15);\n",
              "      filter: drop-shadow(0px 1px 2px rgba(0, 0, 0, 0.3));\n",
              "      fill: #FFFFFF;\n",
              "    }\n",
              "  </style>\n",
              "\n",
              "    <script>\n",
              "      const buttonEl =\n",
              "        document.querySelector('#df-e9de6fe8-215d-4020-b009-65e61eb79363 button.colab-df-convert');\n",
              "      buttonEl.style.display =\n",
              "        google.colab.kernel.accessAllowed ? 'block' : 'none';\n",
              "\n",
              "      async function convertToInteractive(key) {\n",
              "        const element = document.querySelector('#df-e9de6fe8-215d-4020-b009-65e61eb79363');\n",
              "        const dataTable =\n",
              "          await google.colab.kernel.invokeFunction('convertToInteractive',\n",
              "                                                    [key], {});\n",
              "        if (!dataTable) return;\n",
              "\n",
              "        const docLinkHtml = 'Like what you see? Visit the ' +\n",
              "          '<a target=\"_blank\" href=https://colab.research.google.com/notebooks/data_table.ipynb>data table notebook</a>'\n",
              "          + ' to learn more about interactive tables.';\n",
              "        element.innerHTML = '';\n",
              "        dataTable['output_type'] = 'display_data';\n",
              "        await google.colab.output.renderOutput(dataTable, element);\n",
              "        const docLink = document.createElement('div');\n",
              "        docLink.innerHTML = docLinkHtml;\n",
              "        element.appendChild(docLink);\n",
              "      }\n",
              "    </script>\n",
              "  </div>\n",
              "\n",
              "\n",
              "<div id=\"df-da563fb5-e93b-4b11-82e3-1b4cab02d1bc\">\n",
              "  <button class=\"colab-df-quickchart\" onclick=\"quickchart('df-da563fb5-e93b-4b11-82e3-1b4cab02d1bc')\"\n",
              "            title=\"Suggest charts\"\n",
              "            style=\"display:none;\">\n",
              "\n",
              "<svg xmlns=\"http://www.w3.org/2000/svg\" height=\"24px\"viewBox=\"0 0 24 24\"\n",
              "     width=\"24px\">\n",
              "    <g>\n",
              "        <path d=\"M19 3H5c-1.1 0-2 .9-2 2v14c0 1.1.9 2 2 2h14c1.1 0 2-.9 2-2V5c0-1.1-.9-2-2-2zM9 17H7v-7h2v7zm4 0h-2V7h2v10zm4 0h-2v-4h2v4z\"/>\n",
              "    </g>\n",
              "</svg>\n",
              "  </button>\n",
              "\n",
              "<style>\n",
              "  .colab-df-quickchart {\n",
              "      --bg-color: #E8F0FE;\n",
              "      --fill-color: #1967D2;\n",
              "      --hover-bg-color: #E2EBFA;\n",
              "      --hover-fill-color: #174EA6;\n",
              "      --disabled-fill-color: #AAA;\n",
              "      --disabled-bg-color: #DDD;\n",
              "  }\n",
              "\n",
              "  [theme=dark] .colab-df-quickchart {\n",
              "      --bg-color: #3B4455;\n",
              "      --fill-color: #D2E3FC;\n",
              "      --hover-bg-color: #434B5C;\n",
              "      --hover-fill-color: #FFFFFF;\n",
              "      --disabled-bg-color: #3B4455;\n",
              "      --disabled-fill-color: #666;\n",
              "  }\n",
              "\n",
              "  .colab-df-quickchart {\n",
              "    background-color: var(--bg-color);\n",
              "    border: none;\n",
              "    border-radius: 50%;\n",
              "    cursor: pointer;\n",
              "    display: none;\n",
              "    fill: var(--fill-color);\n",
              "    height: 32px;\n",
              "    padding: 0;\n",
              "    width: 32px;\n",
              "  }\n",
              "\n",
              "  .colab-df-quickchart:hover {\n",
              "    background-color: var(--hover-bg-color);\n",
              "    box-shadow: 0 1px 2px rgba(60, 64, 67, 0.3), 0 1px 3px 1px rgba(60, 64, 67, 0.15);\n",
              "    fill: var(--button-hover-fill-color);\n",
              "  }\n",
              "\n",
              "  .colab-df-quickchart-complete:disabled,\n",
              "  .colab-df-quickchart-complete:disabled:hover {\n",
              "    background-color: var(--disabled-bg-color);\n",
              "    fill: var(--disabled-fill-color);\n",
              "    box-shadow: none;\n",
              "  }\n",
              "\n",
              "  .colab-df-spinner {\n",
              "    border: 2px solid var(--fill-color);\n",
              "    border-color: transparent;\n",
              "    border-bottom-color: var(--fill-color);\n",
              "    animation:\n",
              "      spin 1s steps(1) infinite;\n",
              "  }\n",
              "\n",
              "  @keyframes spin {\n",
              "    0% {\n",
              "      border-color: transparent;\n",
              "      border-bottom-color: var(--fill-color);\n",
              "      border-left-color: var(--fill-color);\n",
              "    }\n",
              "    20% {\n",
              "      border-color: transparent;\n",
              "      border-left-color: var(--fill-color);\n",
              "      border-top-color: var(--fill-color);\n",
              "    }\n",
              "    30% {\n",
              "      border-color: transparent;\n",
              "      border-left-color: var(--fill-color);\n",
              "      border-top-color: var(--fill-color);\n",
              "      border-right-color: var(--fill-color);\n",
              "    }\n",
              "    40% {\n",
              "      border-color: transparent;\n",
              "      border-right-color: var(--fill-color);\n",
              "      border-top-color: var(--fill-color);\n",
              "    }\n",
              "    60% {\n",
              "      border-color: transparent;\n",
              "      border-right-color: var(--fill-color);\n",
              "    }\n",
              "    80% {\n",
              "      border-color: transparent;\n",
              "      border-right-color: var(--fill-color);\n",
              "      border-bottom-color: var(--fill-color);\n",
              "    }\n",
              "    90% {\n",
              "      border-color: transparent;\n",
              "      border-bottom-color: var(--fill-color);\n",
              "    }\n",
              "  }\n",
              "</style>\n",
              "\n",
              "  <script>\n",
              "    async function quickchart(key) {\n",
              "      const quickchartButtonEl =\n",
              "        document.querySelector('#' + key + ' button');\n",
              "      quickchartButtonEl.disabled = true;  // To prevent multiple clicks.\n",
              "      quickchartButtonEl.classList.add('colab-df-spinner');\n",
              "      try {\n",
              "        const charts = await google.colab.kernel.invokeFunction(\n",
              "            'suggestCharts', [key], {});\n",
              "      } catch (error) {\n",
              "        console.error('Error during call to suggestCharts:', error);\n",
              "      }\n",
              "      quickchartButtonEl.classList.remove('colab-df-spinner');\n",
              "      quickchartButtonEl.classList.add('colab-df-quickchart-complete');\n",
              "    }\n",
              "    (() => {\n",
              "      let quickchartButtonEl =\n",
              "        document.querySelector('#df-da563fb5-e93b-4b11-82e3-1b4cab02d1bc button');\n",
              "      quickchartButtonEl.style.display =\n",
              "        google.colab.kernel.accessAllowed ? 'block' : 'none';\n",
              "    })();\n",
              "  </script>\n",
              "</div>\n",
              "    </div>\n",
              "  </div>\n"
            ],
            "application/vnd.google.colaboratory.intrinsic+json": {
              "type": "dataframe",
              "variable_name": "df",
              "summary": "{\n  \"name\": \"df\",\n  \"rows\": 32594,\n  \"fields\": [\n    {\n      \"column\": \"seizoen\",\n      \"properties\": {\n        \"dtype\": \"category\",\n        \"num_unique_values\": 63,\n        \"samples\": [\n          \"21/22\",\n          \"17/18\",\n          \"60/61\"\n        ],\n        \"semantic_type\": \"\",\n        \"description\": \"\"\n      }\n    },\n    {\n      \"column\": \"speeldag\",\n      \"properties\": {\n        \"dtype\": \"number\",\n        \"std\": 8,\n        \"min\": 1,\n        \"max\": 30,\n        \"num_unique_values\": 30,\n        \"samples\": [\n          28,\n          16,\n          24\n        ],\n        \"semantic_type\": \"\",\n        \"description\": \"\"\n      }\n    },\n    {\n      \"column\": \"stand\",\n      \"properties\": {\n        \"dtype\": \"number\",\n        \"std\": 5,\n        \"min\": 0,\n        \"max\": 89,\n        \"num_unique_values\": 28,\n        \"samples\": [\n          14,\n          79,\n          13\n        ],\n        \"semantic_type\": \"\",\n        \"description\": \"\"\n      }\n    },\n    {\n      \"column\": \"ploeg\",\n      \"properties\": {\n        \"dtype\": \"category\",\n        \"num_unique_values\": 69,\n        \"samples\": [\n          \"RFC Tilleur\",\n          \"RSC Anderlecht\",\n          \"KRC Genk\"\n        ],\n        \"semantic_type\": \"\",\n        \"description\": \"\"\n      }\n    },\n    {\n      \"column\": \"aantal_gespeelde_matchen\",\n      \"properties\": {\n        \"dtype\": \"number\",\n        \"std\": 8,\n        \"min\": 0,\n        \"max\": 30,\n        \"num_unique_values\": 31,\n        \"samples\": [\n          28,\n          16,\n          24\n        ],\n        \"semantic_type\": \"\",\n        \"description\": \"\"\n      }\n    },\n    {\n      \"column\": \"aantal_gewonnen_matchen\",\n      \"properties\": {\n        \"dtype\": \"number\",\n        \"std\": 4,\n        \"min\": 0,\n        \"max\": 24,\n        \"num_unique_values\": 25,\n        \"samples\": [\n          8,\n          16,\n          1\n        ],\n        \"semantic_type\": \"\",\n        \"description\": \"\"\n      }\n    },\n    {\n      \"column\": \"aantal_gelijkgespeelde_matchen\",\n      \"properties\": {\n        \"dtype\": \"number\",\n        \"std\": 2,\n        \"min\": 0,\n        \"max\": 17,\n        \"num_unique_values\": 18,\n        \"samples\": [\n          0,\n          1,\n          8\n        ],\n        \"semantic_type\": \"\",\n        \"description\": \"\"\n      }\n    },\n    {\n      \"column\": \"aantal_verloren_matchen\",\n      \"properties\": {\n        \"dtype\": \"number\",\n        \"std\": 4,\n        \"min\": 0,\n        \"max\": 23,\n        \"num_unique_values\": 24,\n        \"samples\": [\n          8,\n          16,\n          0\n        ],\n        \"semantic_type\": \"\",\n        \"description\": \"\"\n      }\n    },\n    {\n      \"column\": \"doelpunten\",\n      \"properties\": {\n        \"dtype\": \"category\",\n        \"num_unique_values\": 3133,\n        \"samples\": [\n          \"44:56\",\n          \"50:39\",\n          \"41:52\"\n        ],\n        \"semantic_type\": \"\",\n        \"description\": \"\"\n      }\n    },\n    {\n      \"column\": \"puntenverschil\",\n      \"properties\": {\n        \"dtype\": \"number\",\n        \"std\": 12,\n        \"min\": -68,\n        \"max\": 70,\n        \"num_unique_values\": 125,\n        \"samples\": [\n          -10,\n          22,\n          17\n        ],\n        \"semantic_type\": \"\",\n        \"description\": \"\"\n      }\n    },\n    {\n      \"column\": \"punten\",\n      \"properties\": {\n        \"dtype\": \"number\",\n        \"std\": 14,\n        \"min\": 0,\n        \"max\": 76,\n        \"num_unique_values\": 77,\n        \"samples\": [\n          9,\n          38,\n          13\n        ],\n        \"semantic_type\": \"\",\n        \"description\": \"\"\n      }\n    },\n    {\n      \"column\": \"stamnummers\",\n      \"properties\": {\n        \"dtype\": \"number\",\n        \"std\": 1224,\n        \"min\": 1,\n        \"max\": 5632,\n        \"num_unique_values\": 55,\n        \"samples\": [\n          44,\n          10,\n          93\n        ],\n        \"semantic_type\": \"\",\n        \"description\": \"\"\n      }\n    }\n  ]\n}"
            }
          },
          "metadata": {},
          "execution_count": 107
        }
      ]
    },
    {
      "cell_type": "code",
      "source": [
        "fuzz.ratio(\"Waterschei THOR\", \"K. Waterschei SV Thor\")"
      ],
      "metadata": {
        "colab": {
          "base_uri": "https://localhost:8080/"
        },
        "id": "nRNQRl5f3zxh",
        "outputId": "9f58ed84-b3e1-4d31-c054-a3cf093d3472"
      },
      "execution_count": 90,
      "outputs": [
        {
          "output_type": "execute_result",
          "data": {
            "text/plain": [
              "67"
            ]
          },
          "metadata": {},
          "execution_count": 90
        }
      ]
    }
  ]
}