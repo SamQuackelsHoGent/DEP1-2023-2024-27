{
 "cells": [
  {
   "cell_type": "markdown",
   "metadata": {},
   "source": [
    "# Cleaning up the doelpunten.csv file"
   ]
  },
  {
   "cell_type": "code",
   "execution_count": 3,
   "metadata": {},
   "outputs": [],
   "source": [
    "import pandas as pd"
   ]
  },
  {
   "cell_type": "markdown",
   "metadata": {},
   "source": [
    "### Creating a dataframe"
   ]
  },
  {
   "cell_type": "code",
   "execution_count": 4,
   "metadata": {},
   "outputs": [],
   "source": [
    "df = pd.read_csv(\"doelpunten.csv\", encoding='latin1', \n",
    "names=['Match_ID', 'Seizoen', 'Speeldag', 'Datum', 'Startuur', 'Thuisploeg', 'Uitploeg', \n",
    "'Scorende ploeg', 'Tijdstip goal', 'Score thuisploeg', 'Score Uitploeg'])"
   ]
  },
  {
   "cell_type": "markdown",
   "metadata": {},
   "source": [
    "#### Adding column for minute of goal"
   ]
  },
  {
   "cell_type": "code",
   "execution_count": 5,
   "metadata": {},
   "outputs": [],
   "source": [
    "# tijdstip doelpunt in geheel getal\n",
    "def convert(row):\n",
    "    uur, minuut = row['Tijdstip goal'].split(\":\")\n",
    "    start_uur, start_minuut = row['Startuur'].split(\":\")\n",
    "    \n",
    "    uur = int(uur)\n",
    "    minuut = int(minuut)\n",
    "    start_uur = int(start_uur)\n",
    "    start_minuut = int(start_minuut)\n",
    "\n",
    "    if uur < start_uur:\n",
    "        absolute_minuten = (60 - start_minuut) + (uur + 1 - start_uur) * 60 + minuut\n",
    "    else:\n",
    "        absolute_minuten = (uur - start_uur) * 60 + minuut - start_minuut\n",
    "    \n",
    "    return absolute_minuten"
   ]
  },
  {
   "cell_type": "code",
   "execution_count": 6,
   "metadata": {},
   "outputs": [],
   "source": [
    "df['Minuut goal'] = df.apply(convert, axis=1)"
   ]
  },
  {
   "cell_type": "code",
   "execution_count": 7,
   "metadata": {},
   "outputs": [
    {
     "name": "stdout",
     "output_type": "stream",
     "text": [
      "0\n"
     ]
    }
   ],
   "source": [
    "controle_binnen_tijd = df[df['Minuut goal'] > 120]\n",
    "print(len(controle_binnen_tijd))"
   ]
  },
  {
   "cell_type": "markdown",
   "metadata": {},
   "source": [
    "### Creating second dataframe"
   ]
  },
  {
   "cell_type": "code",
   "execution_count": 8,
   "metadata": {},
   "outputs": [],
   "source": [
    "wedstrijden_df = pd.read_csv('wedstrijden.csv', encoding='latin1',\n",
    "names=['Match_ID', 'Seizoen', 'Speeldag', 'Datum', 'Startuur', 'Thuisploeg', \n",
    "'Score thuisploeg', 'Score Uitploeg', 'Uitploeg'])"
   ]
  },
  {
   "cell_type": "markdown",
   "metadata": {},
   "source": [
    "#### Merge both dataframes"
   ]
  },
  {
   "cell_type": "code",
   "execution_count": 9,
   "metadata": {},
   "outputs": [
    {
     "name": "stderr",
     "output_type": "stream",
     "text": [
      "C:\\Users\\simon\\AppData\\Local\\Temp\\ipykernel_12812\\268699993.py:4: SettingWithCopyWarning: \n",
      "A value is trying to be set on a copy of a slice from a DataFrame.\n",
      "Try using .loc[row_indexer,col_indexer] = value instead\n",
      "\n",
      "See the caveats in the documentation: https://pandas.pydata.org/pandas-docs/stable/user_guide/indexing.html#returning-a-view-versus-a-copy\n",
      "  df_unique['Match_ID'] = df_unique['Match_ID'].astype(str)\n"
     ]
    }
   ],
   "source": [
    "df_unique = df.drop_duplicates(subset=['Match_ID'], keep='last')\n",
    "# wedstrijden_df_unique = wedstrijden_df.drop_duplicates(subset=['Match_ID'], keep='last')\n",
    "\n",
    "df_unique['Match_ID'] = df_unique['Match_ID'].astype(str)\n",
    "wedstrijden_df.Match_ID = wedstrijden_df.Match_ID.astype(str)\n",
    "\n",
    "merged_df = pd.merge(df_unique, wedstrijden_df, on=\"Match_ID\", how=\"inner\")"
   ]
  },
  {
   "cell_type": "markdown",
   "metadata": {},
   "source": [
    "#### Vergelijken van de datums"
   ]
  },
  {
   "cell_type": "code",
   "execution_count": 10,
   "metadata": {},
   "outputs": [
    {
     "data": {
      "text/plain": [
       "Datums_gelijk\n",
       "True    151\n",
       "Name: count, dtype: int64"
      ]
     },
     "execution_count": 10,
     "metadata": {},
     "output_type": "execute_result"
    }
   ],
   "source": [
    "merged_df['Datums_gelijk'] = merged_df['Datum_x'] == merged_df['Datum_y']\n",
    "\n",
    "merged_df[\"Datums_gelijk\"].value_counts()"
   ]
  },
  {
   "cell_type": "markdown",
   "metadata": {},
   "source": [
    "#### Controleren of uiteindelijke resultaat overeenkomt met doelpunten"
   ]
  },
  {
   "cell_type": "code",
   "execution_count": 11,
   "metadata": {},
   "outputs": [
    {
     "name": "stdout",
     "output_type": "stream",
     "text": [
      "Index([  3,   4,   5,  12,  13,  14,  15,  16,  17,  18,  19,  20,  24,  25,\n",
      "        26,  27,  28,  29,  34,  35,  36,  37,  38,  40,  41,  43,  44,  45,\n",
      "        46,  48,  52,  55,  56,  57,  59,  62,  63,  64,  65,  69,  70,  71,\n",
      "        78,  79,  80,  81,  82,  83,  85,  87,  88,  89,  91,  92,  94,  95,\n",
      "        96,  97,  98,  99, 100, 101, 105, 106, 107, 111, 112, 113, 114, 115,\n",
      "       116, 117, 118, 120, 121, 122, 123, 125, 126, 128, 129, 130, 131, 133,\n",
      "       135, 136, 137, 138, 139, 140, 141, 143, 145, 146, 148],\n",
      "      dtype='int64')\n"
     ]
    }
   ],
   "source": [
    "fouten = merged_df[(merged_df['Score thuisploeg_x'] != merged_df['Score thuisploeg_y']) | \n",
    "                        (merged_df['Score Uitploeg_x'] != merged_df['Score Uitploeg_y'])]\n",
    "\n",
    "if len(fouten) == 0:\n",
    "    print(\"Geen fouten\")\n",
    "else:\n",
    "    print(fouten.index)"
   ]
  }
 ],
 "metadata": {
  "kernelspec": {
   "display_name": "Python 3",
   "language": "python",
   "name": "python3"
  },
  "language_info": {
   "codemirror_mode": {
    "name": "ipython",
    "version": 3
   },
   "file_extension": ".py",
   "mimetype": "text/x-python",
   "name": "python",
   "nbconvert_exporter": "python",
   "pygments_lexer": "ipython3",
   "version": "3.11.3"
  }
 },
 "nbformat": 4,
 "nbformat_minor": 2
}
