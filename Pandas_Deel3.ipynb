{
  "cells": [
    {
      "cell_type": "markdown",
      "metadata": {
        "id": "lfJ2b9X2m6iD"
      },
      "source": [
        "# Cleaning up the doelpunten.csv file"
      ]
    },
    {
      "cell_type": "code",
      "execution_count": null,
      "metadata": {
        "id": "tIsy7qzpm6iG"
      },
      "outputs": [],
      "source": [
        "import pandas as pd"
      ]
    },
    {
      "cell_type": "markdown",
      "metadata": {
        "id": "-ur4PjP2m6iH"
      },
      "source": [
        "### Creating a dataframe"
      ]
    },
    {
      "cell_type": "code",
      "execution_count": null,
      "metadata": {
        "id": "rDbNVTtRm6iI"
      },
      "outputs": [],
      "source": [
        "df = pd.read_csv(\"doelpunten.csv\", encoding='latin1',\n",
        "names=['Seizeon', 'Speeldag', 'Datum', 'Startuur', 'Match_ID', 'Thuisploeg', 'Uitploeg',\n",
        "'Minuut goal', 'Tijdstip goal', 'Goalploeg', 'Thuisstand', \"Uitstand\"], sep=\";\")"
      ]
    },
    {
      "cell_type": "markdown",
      "metadata": {
        "id": "ivCMI9PGm6iI"
      },
      "source": [
        "#### Adding column for minute of goal"
      ]
    },
    {
      "cell_type": "code",
      "execution_count": null,
      "metadata": {
        "id": "8D2UVaB2m6iI"
      },
      "outputs": [],
      "source": [
        "# tijdstip doelpunt in geheel getal\n",
        "def convert(row):\n",
        "    uur, minuut = row['Tijdstip goal'].split(\":\")\n",
        "    start_uur, start_minuut = row['Startuur'].split(\":\")\n",
        "\n",
        "    uur = int(uur)\n",
        "    minuut = int(minuut)\n",
        "    start_uur = int(start_uur)\n",
        "    start_minuut = int(start_minuut)\n",
        "\n",
        "    if uur < start_uur:\n",
        "        absolute_minuten = (60 - start_minuut) + (uur + 1 - start_uur) * 60 + minuut\n",
        "    else:\n",
        "        absolute_minuten = (uur - start_uur) * 60 + minuut - start_minuut\n",
        "\n",
        "    return absolute_minuten"
      ]
    },
    {
      "cell_type": "code",
      "execution_count": null,
      "metadata": {
        "id": "4FIwfTUvm6iJ"
      },
      "outputs": [],
      "source": [
        "df['Minuut goal'] = df.apply(convert, axis=1)"
      ]
    },
    {
      "cell_type": "code",
      "execution_count": null,
      "metadata": {
        "colab": {
          "base_uri": "https://localhost:8080/"
        },
        "id": "LN6L5NiQm6iJ",
        "outputId": "6e8c5972-cac4-43b2-a310-17394cf8e4ec"
      },
      "outputs": [
        {
          "output_type": "stream",
          "name": "stdout",
          "text": [
            "0\n"
          ]
        }
      ],
      "source": [
        "controle_binnen_tijd = df[df['Minuut goal'] > 120]\n",
        "print(len(controle_binnen_tijd))"
      ]
    },
    {
      "cell_type": "markdown",
      "metadata": {
        "id": "sCRNkwvRm6iK"
      },
      "source": [
        "### Creating second dataframe"
      ]
    },
    {
      "cell_type": "code",
      "execution_count": null,
      "metadata": {
        "id": "FUrOtq0dm6iK"
      },
      "outputs": [],
      "source": [
        "wedstrijden_df = pd.read_csv('wedstrijden.csv', encoding='latin1',\n",
        "names=['Seizoen', 'Speeldag', 'Datum', 'Startuur', 'Match_ID', 'Thuisploeg',\n",
        "'Uitploeg', 'Score Thuisploeg', 'Score Uitploeg'], sep=\";\")"
      ]
    },
    {
      "cell_type": "markdown",
      "metadata": {
        "id": "QEhUzXEGm6iK"
      },
      "source": [
        "#### Merge both dataframes"
      ]
    },
    {
      "cell_type": "code",
      "execution_count": null,
      "metadata": {
        "colab": {
          "base_uri": "https://localhost:8080/"
        },
        "id": "k_1WB-bDm6iK",
        "outputId": "4bfdbfb7-a588-4f91-9577-8f6abd70e00a"
      },
      "outputs": [
        {
          "output_type": "stream",
          "name": "stderr",
          "text": [
            "<ipython-input-20-3a556ea04728>:4: SettingWithCopyWarning: \n",
            "A value is trying to be set on a copy of a slice from a DataFrame.\n",
            "Try using .loc[row_indexer,col_indexer] = value instead\n",
            "\n",
            "See the caveats in the documentation: https://pandas.pydata.org/pandas-docs/stable/user_guide/indexing.html#returning-a-view-versus-a-copy\n",
            "  df_unique['Match_ID'] = df_unique['Match_ID'].astype(str)\n"
          ]
        }
      ],
      "source": [
        "df_unique = df.drop_duplicates(subset=['Match_ID'], keep='last')\n",
        "# wedstrijden_df_unique = wedstrijden_df.drop_duplicates(subset=['Match_ID'], keep='last')\n",
        "\n",
        "df_unique['Match_ID'] = df_unique['Match_ID'].astype(str)\n",
        "wedstrijden_df.Match_ID = wedstrijden_df.Match_ID.astype(str)\n",
        "\n",
        "merged_df = pd.merge(df_unique, wedstrijden_df, on=\"Match_ID\", how=\"inner\")"
      ]
    },
    {
      "cell_type": "markdown",
      "metadata": {
        "id": "BslMB0uzm6iK"
      },
      "source": [
        "#### Vergelijken van de datums"
      ]
    },
    {
      "cell_type": "code",
      "execution_count": null,
      "metadata": {
        "colab": {
          "base_uri": "https://localhost:8080/"
        },
        "id": "lYJTO8Ofm6iL",
        "outputId": "3ba99812-a9bb-401a-9eff-824456ff2500"
      },
      "outputs": [
        {
          "output_type": "execute_result",
          "data": {
            "text/plain": [
              "True     5462\n",
              "False     948\n",
              "Name: Datums_gelijk, dtype: int64"
            ]
          },
          "metadata": {},
          "execution_count": 21
        }
      ],
      "source": [
        "merged_df['Datums_gelijk'] = merged_df['Datum_x'] == merged_df['Datum_y']\n",
        "\n",
        "merged_df[\"Datums_gelijk\"].value_counts()"
      ]
    },
    {
      "cell_type": "markdown",
      "metadata": {
        "id": "JZlpn_Vnm6iL"
      },
      "source": [
        "#### Controleren of uiteindelijke resultaat overeenkomt met doelpunten"
      ]
    },
    {
      "cell_type": "code",
      "execution_count": null,
      "metadata": {
        "id": "NX6LF1t6m6iL"
      },
      "outputs": [],
      "source": [
        "fouten = merged_df[(merged_df['Score thuisploeg_x'] != merged_df['Score thuisploeg_y']) |\n",
        "                        (merged_df['Score Uitploeg_x'] != merged_df['Score Uitploeg_y'])]\n",
        "\n",
        "if len(fouten) == 0:\n",
        "    print(\"Geen fouten\")\n",
        "else:\n",
        "    print(fouten.index)"
      ]
    },
    {
      "cell_type": "code",
      "source": [],
      "metadata": {
        "id": "u59DUd1Mnz5X"
      },
      "execution_count": null,
      "outputs": []
    },
    {
      "cell_type": "code",
      "source": [
        "columns = [\"club_id\", \"Thuisploeg\", \"huisstamnummer\", \"huisroepnaam\"]\n",
        "id_df = pd.read_csv(\"stamnummers.csv\", sep=\";\", header=None)\n",
        "id_df.columns = columns"
      ],
      "metadata": {
        "id": "EMOfvCOxn8-3"
      },
      "execution_count": null,
      "outputs": []
    },
    {
      "cell_type": "code",
      "source": [
        "# Drop duplicate ploegen\n",
        "id_df.drop(index=115, inplace=True)\n",
        "id_df.drop(index=24, inplace=True)\n",
        "id_df.drop(index=48, inplace=True)\n",
        "id_df.drop(index=131, inplace=True)"
      ],
      "metadata": {
        "id": "yv98UeH5n9aN"
      },
      "execution_count": null,
      "outputs": []
    },
    {
      "cell_type": "code",
      "source": [
        "# Merge de twee dataframes on de ploeg kolom\n",
        "df = pd.merge(df, id_df, on=\"Thuisploeg\", how=\"left\")"
      ],
      "metadata": {
        "id": "Y5jwaBUPn-nl"
      },
      "execution_count": null,
      "outputs": []
    },
    {
      "cell_type": "code",
      "source": [
        "columns = [\"club_id\", \"Uitploeg\", \"uitstamnummer\", \"uitroepnaam\"]\n",
        "id_df.columns = columns\n",
        "df = pd.merge(df, id_df, on=\"Uitploeg\", how=\"left\")"
      ],
      "metadata": {
        "id": "slmHZsI6oBjC"
      },
      "execution_count": null,
      "outputs": []
    },
    {
      "cell_type": "code",
      "source": [
        "columns = [\"club_id\", \"Goalploeg\", \"goalstamnummer\", \"goalroepnaam\"]\n",
        "id_df.columns = columns\n",
        "df = pd.merge(df, id_df, on=\"Goalploeg\", how=\"left\")"
      ],
      "metadata": {
        "id": "S2WhGtPLoLP9"
      },
      "execution_count": null,
      "outputs": []
    },
    {
      "cell_type": "code",
      "source": [
        "df.info()"
      ],
      "metadata": {
        "id": "KYQZuUvyoSBg"
      },
      "execution_count": null,
      "outputs": []
    },
    {
      "cell_type": "code",
      "source": [
        "\n",
        "df = df.drop(columns=\"Goalploeg\")\n",
        "df = df.drop(columns=\"club_id\")\n",
        "df = df.drop(columns=\"club_id_y\")\n",
        "df = df.drop(columns=\"Thuisploeg\")\n",
        "df = df.drop(columns=\"Uitploeg\")\n",
        "df = df.drop(columns=\"club_id_x\")"
      ],
      "metadata": {
        "id": "Uc5pdkI0oVBE"
      },
      "execution_count": null,
      "outputs": []
    },
    {
      "cell_type": "code",
      "source": [
        "df.info()"
      ],
      "metadata": {
        "id": "epuZ3QdQot37"
      },
      "execution_count": null,
      "outputs": []
    },
    {
      "cell_type": "code",
      "source": [],
      "metadata": {
        "id": "TDQrQWNEonQU"
      },
      "execution_count": null,
      "outputs": []
    },
    {
      "cell_type": "code",
      "source": [
        "desired_order = ['Seizeon', 'Speeldag', 'Datum', 'Startuur', 'Match_ID', 'huisstamnummer', 'huisroepnaam', 'uitstamnummer', 'uitroepnaam',\n",
        "'Minuut goal', 'Tijdstip goal', 'goalstamnummer', 'goalroepnaam', 'Thuisstand', \"Uitstand\"]\n",
        "\n",
        "df = df[desired_order]"
      ],
      "metadata": {
        "id": "pS0vnlxJonzt"
      },
      "execution_count": null,
      "outputs": []
    },
    {
      "cell_type": "code",
      "source": [
        "df.to_csv('doelpunten_fixed.csv', index=False, header=None)"
      ],
      "metadata": {
        "id": "t8fTp6xipCVk"
      },
      "execution_count": null,
      "outputs": []
    }
  ],
  "metadata": {
    "kernelspec": {
      "display_name": "Python 3",
      "language": "python",
      "name": "python3"
    },
    "language_info": {
      "codemirror_mode": {
        "name": "ipython",
        "version": 3
      },
      "file_extension": ".py",
      "mimetype": "text/x-python",
      "name": "python",
      "nbconvert_exporter": "python",
      "pygments_lexer": "ipython3",
      "version": "3.11.3"
    },
    "colab": {
      "provenance": []
    }
  },
  "nbformat": 4,
  "nbformat_minor": 0
}